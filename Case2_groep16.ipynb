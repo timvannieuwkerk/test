{
 "cells": [
  {
   "cell_type": "markdown",
   "metadata": {},
   "source": [
    "# De werkelijke coronacijfers \n",
    "\n",
    "Gemaakt door: Juliette Budelman, Marijn van Hest, Tim van Nieuwkerk, Siebe Tolsma"
   ]
  },
  {
   "cell_type": "markdown",
   "metadata": {},
   "source": [
    "Het is nu ruim een jaar na de eerste coronauitbraak en we zijn benieuwd naar de werkelijke coronacijfers. Zijn de verschillende coronagolven te herkennen? Is er een verband tussen het aantal besmettingen en het aantal doden? Welke landen hebben het coronavirus beter onder controle en is dit afhankelijk van het continent waar het land op ligt? Wat is de invloed van het coronavirus op het toerisme en het aantal faillissementen in Nederland? In deze blogpost geven we antwoord op deze vragen met behulp van openbare databronnen en 'interactieve' visualisaties."
   ]
  },
  {
   "cell_type": "markdown",
   "metadata": {},
   "source": [
    "## 1. Importeren libraries\n",
    "In dit hoofdstuk importeren we de benodigde libraries. 'Requests' wordt gebruikt voor het verbinden en binnenhalen van data via API's. 'Pandas', 'Numpy' en 'Scipy.stats' worden vooral gebruikt voor databewerking en het inladen van csv bestanden. 'Matplotlib', 'Seaborn' en 'Ipywidgets' worden gebruikt om 'interactieve' visualisaties te creeëren."
   ]
  },
  {
   "cell_type": "code",
   "execution_count": 1,
   "metadata": {},
   "outputs": [],
   "source": [
    "import requests\n",
    "import pandas as pd\n",
    "import matplotlib.pyplot as plt\n",
    "import matplotlib.patches as mpatches\n",
    "import seaborn as sns\n",
    "import numpy as np \n",
    "from scipy.stats import linregress\n",
    "import ipywidgets\n",
    "from ipywidgets import interactive\n",
    "from ipywidgets import Button, Layout"
   ]
  },
  {
   "cell_type": "markdown",
   "metadata": {},
   "source": [
    "## 2. Verband tussen aantal besmettingen en aantal doden per land\n",
    "In dit hoofdstuk wordt het verband tussen het aantal besmettingen en het aantal doden per land weergegeven. Er is onderscheidt gemaakt tussen het continent en het aantal inwoners."
   ]
  },
  {
   "cell_type": "markdown",
   "metadata": {},
   "source": [
    "### 2.1 Inladen gegevens en exploratory data analysis\n",
    "Allereerst wordt er een API ingeladen. Deze API is afkomstig van COVID19 API (https://covid19api.com/). Deze API is gebouwd door Kyle Redelinghuys en de data is afkomstig van Johns Hopkins CSSE. Uit deze API kunnen verschillende gegevens worden opgehaald en dat gaat met een aantal parameters. De belangrijkste parameters zijn 'summary', 'countries', 'day one' en 'by country'. Een volledig overzicht is te vinden op de website. Wij gebruiken de 'summary' command door deze achter de API-link te plaatsen. \n",
    "\n",
    "Na het inladen geven we de eerste 5 regels weer die ons een indruk geven van de data."
   ]
  },
  {
   "cell_type": "code",
   "execution_count": 2,
   "metadata": {},
   "outputs": [
    {
     "data": {
      "text/html": [
       "<div>\n",
       "<style scoped>\n",
       "    .dataframe tbody tr th:only-of-type {\n",
       "        vertical-align: middle;\n",
       "    }\n",
       "\n",
       "    .dataframe tbody tr th {\n",
       "        vertical-align: top;\n",
       "    }\n",
       "\n",
       "    .dataframe thead th {\n",
       "        text-align: right;\n",
       "    }\n",
       "</style>\n",
       "<table border=\"1\" class=\"dataframe\">\n",
       "  <thead>\n",
       "    <tr style=\"text-align: right;\">\n",
       "      <th></th>\n",
       "      <th>ID</th>\n",
       "      <th>Country</th>\n",
       "      <th>CountryCode</th>\n",
       "      <th>Slug</th>\n",
       "      <th>NewConfirmed</th>\n",
       "      <th>TotalConfirmed</th>\n",
       "      <th>NewDeaths</th>\n",
       "      <th>TotalDeaths</th>\n",
       "      <th>NewRecovered</th>\n",
       "      <th>TotalRecovered</th>\n",
       "      <th>Date</th>\n",
       "      <th>Premium</th>\n",
       "    </tr>\n",
       "  </thead>\n",
       "  <tbody>\n",
       "    <tr>\n",
       "      <th>0</th>\n",
       "      <td>e553158d-bdaa-4e96-9ba3-feb24c9bb4dd</td>\n",
       "      <td>Afghanistan</td>\n",
       "      <td>AF</td>\n",
       "      <td>afghanistan</td>\n",
       "      <td>0</td>\n",
       "      <td>55759</td>\n",
       "      <td>0</td>\n",
       "      <td>2446</td>\n",
       "      <td>0</td>\n",
       "      <td>49347</td>\n",
       "      <td>2021-03-03T18:22:36.459Z</td>\n",
       "      <td>{}</td>\n",
       "    </tr>\n",
       "    <tr>\n",
       "      <th>1</th>\n",
       "      <td>5c7a828f-783b-4df9-ab8e-605c21c99b04</td>\n",
       "      <td>Albania</td>\n",
       "      <td>AL</td>\n",
       "      <td>albania</td>\n",
       "      <td>0</td>\n",
       "      <td>108823</td>\n",
       "      <td>0</td>\n",
       "      <td>1835</td>\n",
       "      <td>0</td>\n",
       "      <td>71173</td>\n",
       "      <td>2021-03-03T18:22:36.459Z</td>\n",
       "      <td>{}</td>\n",
       "    </tr>\n",
       "    <tr>\n",
       "      <th>2</th>\n",
       "      <td>bc96fa26-88c3-4b70-925a-31488a512e70</td>\n",
       "      <td>Algeria</td>\n",
       "      <td>DZ</td>\n",
       "      <td>algeria</td>\n",
       "      <td>0</td>\n",
       "      <td>113430</td>\n",
       "      <td>0</td>\n",
       "      <td>2991</td>\n",
       "      <td>0</td>\n",
       "      <td>78377</td>\n",
       "      <td>2021-03-03T18:22:36.459Z</td>\n",
       "      <td>{}</td>\n",
       "    </tr>\n",
       "    <tr>\n",
       "      <th>3</th>\n",
       "      <td>691eae68-81f8-4281-b721-577114282b38</td>\n",
       "      <td>Andorra</td>\n",
       "      <td>AD</td>\n",
       "      <td>andorra</td>\n",
       "      <td>0</td>\n",
       "      <td>10908</td>\n",
       "      <td>0</td>\n",
       "      <td>110</td>\n",
       "      <td>0</td>\n",
       "      <td>10501</td>\n",
       "      <td>2021-03-03T18:22:36.459Z</td>\n",
       "      <td>{}</td>\n",
       "    </tr>\n",
       "    <tr>\n",
       "      <th>4</th>\n",
       "      <td>31967c1d-22e5-4976-8f6a-91a968d8dfe8</td>\n",
       "      <td>Angola</td>\n",
       "      <td>AO</td>\n",
       "      <td>angola</td>\n",
       "      <td>0</td>\n",
       "      <td>20882</td>\n",
       "      <td>0</td>\n",
       "      <td>510</td>\n",
       "      <td>0</td>\n",
       "      <td>19410</td>\n",
       "      <td>2021-03-03T18:22:36.459Z</td>\n",
       "      <td>{}</td>\n",
       "    </tr>\n",
       "  </tbody>\n",
       "</table>\n",
       "</div>"
      ],
      "text/plain": [
       "                                     ID      Country CountryCode         Slug  \\\n",
       "0  e553158d-bdaa-4e96-9ba3-feb24c9bb4dd  Afghanistan          AF  afghanistan   \n",
       "1  5c7a828f-783b-4df9-ab8e-605c21c99b04      Albania          AL      albania   \n",
       "2  bc96fa26-88c3-4b70-925a-31488a512e70      Algeria          DZ      algeria   \n",
       "3  691eae68-81f8-4281-b721-577114282b38      Andorra          AD      andorra   \n",
       "4  31967c1d-22e5-4976-8f6a-91a968d8dfe8       Angola          AO       angola   \n",
       "\n",
       "   NewConfirmed  TotalConfirmed  NewDeaths  TotalDeaths  NewRecovered  \\\n",
       "0             0           55759          0         2446             0   \n",
       "1             0          108823          0         1835             0   \n",
       "2             0          113430          0         2991             0   \n",
       "3             0           10908          0          110             0   \n",
       "4             0           20882          0          510             0   \n",
       "\n",
       "   TotalRecovered                      Date Premium  \n",
       "0           49347  2021-03-03T18:22:36.459Z      {}  \n",
       "1           71173  2021-03-03T18:22:36.459Z      {}  \n",
       "2           78377  2021-03-03T18:22:36.459Z      {}  \n",
       "3           10501  2021-03-03T18:22:36.459Z      {}  \n",
       "4           19410  2021-03-03T18:22:36.459Z      {}  "
      ]
     },
     "execution_count": 2,
     "metadata": {},
     "output_type": "execute_result"
    }
   ],
   "source": [
    "url_corona_country = 'https://api.covid19api.com/summary'\n",
    "r = requests.get(url_corona_country)\n",
    "dict = r.json()['Countries']\n",
    "df_corona_country = pd.DataFrame.from_dict(dict)\n",
    "df_corona_country.head()"
   ]
  },
  {
   "cell_type": "markdown",
   "metadata": {},
   "source": [
    "We hebben niet alle kolommen nodig, dus selecteren we alleen de benodigde kolommen (Country, CountryCode, TotalConfirmed, TotalDeaths en TotalRecovered).\n",
    "\n",
    "Vervolgens bekijken we de informatie per kolom (eventueel missende waarden en dtype). Het blijkt dat er in deze dataset geen missende waarden zijn en dat de dtypes logisch zijn (Country en CountryCode zijn teksten en de coronacijfers zijn integers)."
   ]
  },
  {
   "cell_type": "code",
   "execution_count": 3,
   "metadata": {},
   "outputs": [
    {
     "name": "stdout",
     "output_type": "stream",
     "text": [
      "<class 'pandas.core.frame.DataFrame'>\n",
      "RangeIndex: 190 entries, 0 to 189\n",
      "Data columns (total 5 columns):\n",
      " #   Column          Non-Null Count  Dtype \n",
      "---  ------          --------------  ----- \n",
      " 0   Country         190 non-null    object\n",
      " 1   CountryCode     190 non-null    object\n",
      " 2   TotalConfirmed  190 non-null    int64 \n",
      " 3   TotalDeaths     190 non-null    int64 \n",
      " 4   TotalRecovered  190 non-null    int64 \n",
      "dtypes: int64(3), object(2)\n",
      "memory usage: 7.5+ KB\n"
     ]
    }
   ],
   "source": [
    "df_corona_country = df_corona_country[['Country', 'CountryCode', 'TotalConfirmed', 'TotalDeaths', 'TotalRecovered']]\n",
    "df_corona_country.info()"
   ]
  },
  {
   "cell_type": "markdown",
   "metadata": {},
   "source": [
    "In deze dataset zijn geen gegevens per continent beschikbaar, deze moeten we dus apart inladen. Dit doen we met een csv bestand van DataHub (https://datahub.io/JohnSnowLabs/country-and-continent-codes-list#resource-country-and-continent-codes-list-csv). Ook is de csv direct te openen met de link in de onderstaande code.\n",
    "\n",
    "We bekijken de eerste vijf regels om een indruk te krijgen van de data."
   ]
  },
  {
   "cell_type": "code",
   "execution_count": 4,
   "metadata": {},
   "outputs": [
    {
     "data": {
      "text/html": [
       "<div>\n",
       "<style scoped>\n",
       "    .dataframe tbody tr th:only-of-type {\n",
       "        vertical-align: middle;\n",
       "    }\n",
       "\n",
       "    .dataframe tbody tr th {\n",
       "        vertical-align: top;\n",
       "    }\n",
       "\n",
       "    .dataframe thead th {\n",
       "        text-align: right;\n",
       "    }\n",
       "</style>\n",
       "<table border=\"1\" class=\"dataframe\">\n",
       "  <thead>\n",
       "    <tr style=\"text-align: right;\">\n",
       "      <th></th>\n",
       "      <th>Continent_Name</th>\n",
       "      <th>Continent_Code</th>\n",
       "      <th>Country_Name</th>\n",
       "      <th>Two_Letter_Country_Code</th>\n",
       "      <th>Three_Letter_Country_Code</th>\n",
       "      <th>Country_Number</th>\n",
       "    </tr>\n",
       "  </thead>\n",
       "  <tbody>\n",
       "    <tr>\n",
       "      <th>0</th>\n",
       "      <td>Asia</td>\n",
       "      <td>AS</td>\n",
       "      <td>Afghanistan, Islamic Republic of</td>\n",
       "      <td>AF</td>\n",
       "      <td>AFG</td>\n",
       "      <td>4.0</td>\n",
       "    </tr>\n",
       "    <tr>\n",
       "      <th>1</th>\n",
       "      <td>Europe</td>\n",
       "      <td>EU</td>\n",
       "      <td>Albania, Republic of</td>\n",
       "      <td>AL</td>\n",
       "      <td>ALB</td>\n",
       "      <td>8.0</td>\n",
       "    </tr>\n",
       "    <tr>\n",
       "      <th>2</th>\n",
       "      <td>Antarctica</td>\n",
       "      <td>AN</td>\n",
       "      <td>Antarctica (the territory South of 60 deg S)</td>\n",
       "      <td>AQ</td>\n",
       "      <td>ATA</td>\n",
       "      <td>10.0</td>\n",
       "    </tr>\n",
       "    <tr>\n",
       "      <th>3</th>\n",
       "      <td>Africa</td>\n",
       "      <td>AF</td>\n",
       "      <td>Algeria, People's Democratic Republic of</td>\n",
       "      <td>DZ</td>\n",
       "      <td>DZA</td>\n",
       "      <td>12.0</td>\n",
       "    </tr>\n",
       "    <tr>\n",
       "      <th>4</th>\n",
       "      <td>Oceania</td>\n",
       "      <td>OC</td>\n",
       "      <td>American Samoa</td>\n",
       "      <td>AS</td>\n",
       "      <td>ASM</td>\n",
       "      <td>16.0</td>\n",
       "    </tr>\n",
       "  </tbody>\n",
       "</table>\n",
       "</div>"
      ],
      "text/plain": [
       "  Continent_Name Continent_Code                                  Country_Name  \\\n",
       "0           Asia             AS              Afghanistan, Islamic Republic of   \n",
       "1         Europe             EU                          Albania, Republic of   \n",
       "2     Antarctica             AN  Antarctica (the territory South of 60 deg S)   \n",
       "3         Africa             AF      Algeria, People's Democratic Republic of   \n",
       "4        Oceania             OC                                American Samoa   \n",
       "\n",
       "  Two_Letter_Country_Code Three_Letter_Country_Code  Country_Number  \n",
       "0                      AF                       AFG             4.0  \n",
       "1                      AL                       ALB             8.0  \n",
       "2                      AQ                       ATA            10.0  \n",
       "3                      DZ                       DZA            12.0  \n",
       "4                      AS                       ASM            16.0  "
      ]
     },
     "execution_count": 4,
     "metadata": {},
     "output_type": "execute_result"
    }
   ],
   "source": [
    "df_continents = pd.read_csv('https://pkgstore.datahub.io/JohnSnowLabs/country-and-continent-codes-list/country-and-continent-codes-list-csv_csv/data/b7876b7f496677669644f3d1069d3121/country-and-continent-codes-list-csv_csv.csv')\n",
    "df_continents.head()"
   ]
  },
  {
   "cell_type": "markdown",
   "metadata": {},
   "source": [
    "Ook zijn er geen gegevens over het aantal inwoners per land beschikbaar. Hiervoor hebben wij ook een csv ingeladen (https://datahub.io/JohnSnowLabs/population-figures-by-country). Deze csv is ook afkomstig van datahub en kan ook direct worden geopend via de link in de code hieronder.\n",
    "\n",
    "We bekijken de eerste vijf regels om een indruk te krijgen van de data."
   ]
  },
  {
   "cell_type": "code",
   "execution_count": 5,
   "metadata": {},
   "outputs": [
    {
     "data": {
      "text/html": [
       "<div>\n",
       "<style scoped>\n",
       "    .dataframe tbody tr th:only-of-type {\n",
       "        vertical-align: middle;\n",
       "    }\n",
       "\n",
       "    .dataframe tbody tr th {\n",
       "        vertical-align: top;\n",
       "    }\n",
       "\n",
       "    .dataframe thead th {\n",
       "        text-align: right;\n",
       "    }\n",
       "</style>\n",
       "<table border=\"1\" class=\"dataframe\">\n",
       "  <thead>\n",
       "    <tr style=\"text-align: right;\">\n",
       "      <th></th>\n",
       "      <th>Country</th>\n",
       "      <th>Country_Code</th>\n",
       "      <th>Year_1960</th>\n",
       "      <th>Year_1961</th>\n",
       "      <th>Year_1962</th>\n",
       "      <th>Year_1963</th>\n",
       "      <th>Year_1964</th>\n",
       "      <th>Year_1965</th>\n",
       "      <th>Year_1966</th>\n",
       "      <th>Year_1967</th>\n",
       "      <th>...</th>\n",
       "      <th>Year_2007</th>\n",
       "      <th>Year_2008</th>\n",
       "      <th>Year_2009</th>\n",
       "      <th>Year_2010</th>\n",
       "      <th>Year_2011</th>\n",
       "      <th>Year_2012</th>\n",
       "      <th>Year_2013</th>\n",
       "      <th>Year_2014</th>\n",
       "      <th>Year_2015</th>\n",
       "      <th>Year_2016</th>\n",
       "    </tr>\n",
       "  </thead>\n",
       "  <tbody>\n",
       "    <tr>\n",
       "      <th>0</th>\n",
       "      <td>Aruba</td>\n",
       "      <td>ABW</td>\n",
       "      <td>54211.0</td>\n",
       "      <td>55438.0</td>\n",
       "      <td>56225.0</td>\n",
       "      <td>56695.0</td>\n",
       "      <td>57032.0</td>\n",
       "      <td>57360.0</td>\n",
       "      <td>57715.0</td>\n",
       "      <td>58055.0</td>\n",
       "      <td>...</td>\n",
       "      <td>101220.0</td>\n",
       "      <td>101353.0</td>\n",
       "      <td>101453.0</td>\n",
       "      <td>101669.0</td>\n",
       "      <td>102053.0</td>\n",
       "      <td>102577.0</td>\n",
       "      <td>103187.0</td>\n",
       "      <td>103795.0</td>\n",
       "      <td>104341.0</td>\n",
       "      <td>104822.0</td>\n",
       "    </tr>\n",
       "    <tr>\n",
       "      <th>1</th>\n",
       "      <td>Afghanistan</td>\n",
       "      <td>AFG</td>\n",
       "      <td>8996351.0</td>\n",
       "      <td>9166764.0</td>\n",
       "      <td>9345868.0</td>\n",
       "      <td>9533954.0</td>\n",
       "      <td>9731361.0</td>\n",
       "      <td>9938414.0</td>\n",
       "      <td>10152331.0</td>\n",
       "      <td>10372630.0</td>\n",
       "      <td>...</td>\n",
       "      <td>26616792.0</td>\n",
       "      <td>27294031.0</td>\n",
       "      <td>28004331.0</td>\n",
       "      <td>28803167.0</td>\n",
       "      <td>29708599.0</td>\n",
       "      <td>30696958.0</td>\n",
       "      <td>31731688.0</td>\n",
       "      <td>32758020.0</td>\n",
       "      <td>33736494.0</td>\n",
       "      <td>34656032.0</td>\n",
       "    </tr>\n",
       "    <tr>\n",
       "      <th>2</th>\n",
       "      <td>Angola</td>\n",
       "      <td>AGO</td>\n",
       "      <td>5643182.0</td>\n",
       "      <td>5753024.0</td>\n",
       "      <td>5866061.0</td>\n",
       "      <td>5980417.0</td>\n",
       "      <td>6093321.0</td>\n",
       "      <td>6203299.0</td>\n",
       "      <td>6309770.0</td>\n",
       "      <td>6414995.0</td>\n",
       "      <td>...</td>\n",
       "      <td>20997687.0</td>\n",
       "      <td>21759420.0</td>\n",
       "      <td>22549547.0</td>\n",
       "      <td>23369131.0</td>\n",
       "      <td>24218565.0</td>\n",
       "      <td>25096150.0</td>\n",
       "      <td>25998340.0</td>\n",
       "      <td>26920466.0</td>\n",
       "      <td>27859305.0</td>\n",
       "      <td>28813463.0</td>\n",
       "    </tr>\n",
       "    <tr>\n",
       "      <th>3</th>\n",
       "      <td>Albania</td>\n",
       "      <td>ALB</td>\n",
       "      <td>1608800.0</td>\n",
       "      <td>1659800.0</td>\n",
       "      <td>1711319.0</td>\n",
       "      <td>1762621.0</td>\n",
       "      <td>1814135.0</td>\n",
       "      <td>1864791.0</td>\n",
       "      <td>1914573.0</td>\n",
       "      <td>1965598.0</td>\n",
       "      <td>...</td>\n",
       "      <td>2970017.0</td>\n",
       "      <td>2947314.0</td>\n",
       "      <td>2927519.0</td>\n",
       "      <td>2913021.0</td>\n",
       "      <td>2905195.0</td>\n",
       "      <td>2900401.0</td>\n",
       "      <td>2895092.0</td>\n",
       "      <td>2889104.0</td>\n",
       "      <td>2880703.0</td>\n",
       "      <td>2876101.0</td>\n",
       "    </tr>\n",
       "    <tr>\n",
       "      <th>4</th>\n",
       "      <td>Andorra</td>\n",
       "      <td>AND</td>\n",
       "      <td>13411.0</td>\n",
       "      <td>14375.0</td>\n",
       "      <td>15370.0</td>\n",
       "      <td>16412.0</td>\n",
       "      <td>17469.0</td>\n",
       "      <td>18549.0</td>\n",
       "      <td>19647.0</td>\n",
       "      <td>20758.0</td>\n",
       "      <td>...</td>\n",
       "      <td>82683.0</td>\n",
       "      <td>83861.0</td>\n",
       "      <td>84462.0</td>\n",
       "      <td>84449.0</td>\n",
       "      <td>83751.0</td>\n",
       "      <td>82431.0</td>\n",
       "      <td>80788.0</td>\n",
       "      <td>79223.0</td>\n",
       "      <td>78014.0</td>\n",
       "      <td>77281.0</td>\n",
       "    </tr>\n",
       "  </tbody>\n",
       "</table>\n",
       "<p>5 rows × 59 columns</p>\n",
       "</div>"
      ],
      "text/plain": [
       "       Country Country_Code  Year_1960  Year_1961  Year_1962  Year_1963  \\\n",
       "0        Aruba          ABW    54211.0    55438.0    56225.0    56695.0   \n",
       "1  Afghanistan          AFG  8996351.0  9166764.0  9345868.0  9533954.0   \n",
       "2       Angola          AGO  5643182.0  5753024.0  5866061.0  5980417.0   \n",
       "3      Albania          ALB  1608800.0  1659800.0  1711319.0  1762621.0   \n",
       "4      Andorra          AND    13411.0    14375.0    15370.0    16412.0   \n",
       "\n",
       "   Year_1964  Year_1965   Year_1966   Year_1967  ...   Year_2007   Year_2008  \\\n",
       "0    57032.0    57360.0     57715.0     58055.0  ...    101220.0    101353.0   \n",
       "1  9731361.0  9938414.0  10152331.0  10372630.0  ...  26616792.0  27294031.0   \n",
       "2  6093321.0  6203299.0   6309770.0   6414995.0  ...  20997687.0  21759420.0   \n",
       "3  1814135.0  1864791.0   1914573.0   1965598.0  ...   2970017.0   2947314.0   \n",
       "4    17469.0    18549.0     19647.0     20758.0  ...     82683.0     83861.0   \n",
       "\n",
       "    Year_2009   Year_2010   Year_2011   Year_2012   Year_2013   Year_2014  \\\n",
       "0    101453.0    101669.0    102053.0    102577.0    103187.0    103795.0   \n",
       "1  28004331.0  28803167.0  29708599.0  30696958.0  31731688.0  32758020.0   \n",
       "2  22549547.0  23369131.0  24218565.0  25096150.0  25998340.0  26920466.0   \n",
       "3   2927519.0   2913021.0   2905195.0   2900401.0   2895092.0   2889104.0   \n",
       "4     84462.0     84449.0     83751.0     82431.0     80788.0     79223.0   \n",
       "\n",
       "    Year_2015   Year_2016  \n",
       "0    104341.0    104822.0  \n",
       "1  33736494.0  34656032.0  \n",
       "2  27859305.0  28813463.0  \n",
       "3   2880703.0   2876101.0  \n",
       "4     78014.0     77281.0  \n",
       "\n",
       "[5 rows x 59 columns]"
      ]
     },
     "execution_count": 5,
     "metadata": {},
     "output_type": "execute_result"
    }
   ],
   "source": [
    "df_habitants = pd.read_csv('https://datahub.io/JohnSnowLabs/population-figures-by-country/r/population-figures-by-country-csv.csv')\n",
    "df_habitants.head()"
   ]
  },
  {
   "cell_type": "markdown",
   "metadata": {},
   "source": [
    "We hebben maar gegevens van één jaartal nodig en we kiezen de meest recente (2016). Daarom nemen we de andere kolommen niet mee."
   ]
  },
  {
   "cell_type": "code",
   "execution_count": 6,
   "metadata": {},
   "outputs": [
    {
     "data": {
      "text/html": [
       "<div>\n",
       "<style scoped>\n",
       "    .dataframe tbody tr th:only-of-type {\n",
       "        vertical-align: middle;\n",
       "    }\n",
       "\n",
       "    .dataframe tbody tr th {\n",
       "        vertical-align: top;\n",
       "    }\n",
       "\n",
       "    .dataframe thead th {\n",
       "        text-align: right;\n",
       "    }\n",
       "</style>\n",
       "<table border=\"1\" class=\"dataframe\">\n",
       "  <thead>\n",
       "    <tr style=\"text-align: right;\">\n",
       "      <th></th>\n",
       "      <th>Country_Code</th>\n",
       "      <th>Year_2016</th>\n",
       "    </tr>\n",
       "  </thead>\n",
       "  <tbody>\n",
       "    <tr>\n",
       "      <th>0</th>\n",
       "      <td>ABW</td>\n",
       "      <td>104822.0</td>\n",
       "    </tr>\n",
       "    <tr>\n",
       "      <th>1</th>\n",
       "      <td>AFG</td>\n",
       "      <td>34656032.0</td>\n",
       "    </tr>\n",
       "    <tr>\n",
       "      <th>2</th>\n",
       "      <td>AGO</td>\n",
       "      <td>28813463.0</td>\n",
       "    </tr>\n",
       "    <tr>\n",
       "      <th>3</th>\n",
       "      <td>ALB</td>\n",
       "      <td>2876101.0</td>\n",
       "    </tr>\n",
       "    <tr>\n",
       "      <th>4</th>\n",
       "      <td>AND</td>\n",
       "      <td>77281.0</td>\n",
       "    </tr>\n",
       "  </tbody>\n",
       "</table>\n",
       "</div>"
      ],
      "text/plain": [
       "  Country_Code   Year_2016\n",
       "0          ABW    104822.0\n",
       "1          AFG  34656032.0\n",
       "2          AGO  28813463.0\n",
       "3          ALB   2876101.0\n",
       "4          AND     77281.0"
      ]
     },
     "execution_count": 6,
     "metadata": {},
     "output_type": "execute_result"
    }
   ],
   "source": [
    "df_habitants = df_habitants[['Country_Code', 'Year_2016']]\n",
    "df_habitants.head()"
   ]
  },
  {
   "cell_type": "markdown",
   "metadata": {},
   "source": [
    "### 2.2 Samenvoegen gegevens\n",
    "Vervolgens voegen we de drie datasets samen tot één dataset. Dit doen we in twee stappen (eerst coronacijfers met continenten, daarna met inwoners). We gebruiken hiervoor de .merge methode en voegen samen op basis van de landcodes. \n",
    "\n",
    "Vervolgens bekijken we de informatie per kolom. Het blijkt dat er één missende waarde is. Het blijkt het land Eritrea te zijn en we zoeken het aantal inwoners op (6.081.196). Vervolgens vullen we deze waarde in met de fillna() methode en checken we of de missende waarde is verdwenen. BRON"
   ]
  },
  {
   "cell_type": "code",
   "execution_count": 7,
   "metadata": {},
   "outputs": [],
   "source": [
    "df_corona_country_merge = df_corona_country.merge(df_continents, left_on='CountryCode', right_on='Two_Letter_Country_Code')\n",
    "df_corona_country_merge = df_corona_country_merge[['Country', 'CountryCode', 'TotalConfirmed', 'TotalDeaths', 'TotalRecovered', 'Continent_Name', 'Continent_Code', 'Two_Letter_Country_Code', 'Three_Letter_Country_Code']]\n",
    "df_corona_country_merge = df_corona_country_merge.loc[:,~df_corona_country_merge.columns.duplicated()]"
   ]
  },
  {
   "cell_type": "code",
   "execution_count": 8,
   "metadata": {},
   "outputs": [
    {
     "name": "stdout",
     "output_type": "stream",
     "text": [
      "<class 'pandas.core.frame.DataFrame'>\n",
      "Int64Index: 193 entries, 0 to 192\n",
      "Data columns (total 9 columns):\n",
      " #   Column                     Non-Null Count  Dtype  \n",
      "---  ------                     --------------  -----  \n",
      " 0   Country                    193 non-null    object \n",
      " 1   CountryCode                193 non-null    object \n",
      " 2   TotalConfirmed             193 non-null    int64  \n",
      " 3   TotalDeaths                193 non-null    int64  \n",
      " 4   TotalRecovered             193 non-null    int64  \n",
      " 5   Continent_Name             193 non-null    object \n",
      " 6   Two_Letter_Country_Code    193 non-null    object \n",
      " 7   Three_Letter_Country_Code  193 non-null    object \n",
      " 8   Habitants                  192 non-null    float64\n",
      "dtypes: float64(1), int64(3), object(5)\n",
      "memory usage: 15.1+ KB\n"
     ]
    }
   ],
   "source": [
    "df_corona_country_merge_2 = df_corona_country_merge.merge(df_habitants, left_on='Three_Letter_Country_Code', right_on='Country_Code')\n",
    "df_corona_country_merge_2 = df_corona_country_merge_2[['Country', 'CountryCode', 'TotalConfirmed', 'TotalDeaths', 'TotalRecovered', 'Continent_Name', 'Two_Letter_Country_Code', 'Three_Letter_Country_Code', 'Year_2016']]\n",
    "df_corona_country_merge_2.rename(columns={'Year_2016':'Habitants'}, inplace=True)\n",
    "df_corona_country_merge_2.info()"
   ]
  },
  {
   "cell_type": "code",
   "execution_count": 9,
   "metadata": {},
   "outputs": [
    {
     "data": {
      "text/html": [
       "<div>\n",
       "<style scoped>\n",
       "    .dataframe tbody tr th:only-of-type {\n",
       "        vertical-align: middle;\n",
       "    }\n",
       "\n",
       "    .dataframe tbody tr th {\n",
       "        vertical-align: top;\n",
       "    }\n",
       "\n",
       "    .dataframe thead th {\n",
       "        text-align: right;\n",
       "    }\n",
       "</style>\n",
       "<table border=\"1\" class=\"dataframe\">\n",
       "  <thead>\n",
       "    <tr style=\"text-align: right;\">\n",
       "      <th></th>\n",
       "      <th>Country</th>\n",
       "      <th>CountryCode</th>\n",
       "      <th>TotalConfirmed</th>\n",
       "      <th>TotalDeaths</th>\n",
       "      <th>TotalRecovered</th>\n",
       "      <th>Continent_Name</th>\n",
       "      <th>Two_Letter_Country_Code</th>\n",
       "      <th>Three_Letter_Country_Code</th>\n",
       "      <th>Habitants</th>\n",
       "    </tr>\n",
       "  </thead>\n",
       "  <tbody>\n",
       "    <tr>\n",
       "      <th>57</th>\n",
       "      <td>Eritrea</td>\n",
       "      <td>ER</td>\n",
       "      <td>2884</td>\n",
       "      <td>7</td>\n",
       "      <td>2344</td>\n",
       "      <td>Africa</td>\n",
       "      <td>ER</td>\n",
       "      <td>ERI</td>\n",
       "      <td>NaN</td>\n",
       "    </tr>\n",
       "  </tbody>\n",
       "</table>\n",
       "</div>"
      ],
      "text/plain": [
       "    Country CountryCode  TotalConfirmed  TotalDeaths  TotalRecovered  \\\n",
       "57  Eritrea          ER            2884            7            2344   \n",
       "\n",
       "   Continent_Name Two_Letter_Country_Code Three_Letter_Country_Code  Habitants  \n",
       "57         Africa                      ER                       ERI        NaN  "
      ]
     },
     "execution_count": 9,
     "metadata": {},
     "output_type": "execute_result"
    }
   ],
   "source": [
    "df_corona_country_merge_2[df_corona_country_merge_2['Habitants'].isnull()]"
   ]
  },
  {
   "cell_type": "code",
   "execution_count": 10,
   "metadata": {},
   "outputs": [],
   "source": [
    "df_corona_country_merge_2['Habitants'].fillna(6081196, inplace=True) "
   ]
  },
  {
   "cell_type": "code",
   "execution_count": 11,
   "metadata": {},
   "outputs": [
    {
     "name": "stdout",
     "output_type": "stream",
     "text": [
      "<class 'pandas.core.frame.DataFrame'>\n",
      "Int64Index: 193 entries, 0 to 192\n",
      "Data columns (total 9 columns):\n",
      " #   Column                     Non-Null Count  Dtype  \n",
      "---  ------                     --------------  -----  \n",
      " 0   Country                    193 non-null    object \n",
      " 1   CountryCode                193 non-null    object \n",
      " 2   TotalConfirmed             193 non-null    int64  \n",
      " 3   TotalDeaths                193 non-null    int64  \n",
      " 4   TotalRecovered             193 non-null    int64  \n",
      " 5   Continent_Name             193 non-null    object \n",
      " 6   Two_Letter_Country_Code    193 non-null    object \n",
      " 7   Three_Letter_Country_Code  193 non-null    object \n",
      " 8   Habitants                  193 non-null    float64\n",
      "dtypes: float64(1), int64(3), object(5)\n",
      "memory usage: 15.1+ KB\n"
     ]
    }
   ],
   "source": [
    "df_corona_country_merge_2.info()"
   ]
  },
  {
   "cell_type": "markdown",
   "metadata": {},
   "source": [
    "### 2.3 Verbanden visualiseren\n",
    "Hieronder bekijken we de correlatie tussen een aantal van de variabelen in de tabel (TotalConfirmed, TotalDeaths, TotalRecoverd, Habitants). Het blijkt dat er een zeer sterke lineair verband is tussen het aantal besmettingen en het aantal doden. Ook is er een positief verband tussen het aantal besmettingen en het aantal herstelde patiënten en het aantal inwoners."
   ]
  },
  {
   "cell_type": "code",
   "execution_count": 12,
   "metadata": {},
   "outputs": [
    {
     "data": {
      "image/png": "[encoded data removed]",
      "text/plain": [
       "<Figure size 432x288 with 2 Axes>"
      ]
     },
     "metadata": {
      "needs_background": "light"
     },
     "output_type": "display_data"
    }
   ],
   "source": [
    "sns.heatmap(df_corona_country_merge_2.corr(), vmin=-1, vmax=1, annot=True)\n",
    "\n",
    "plt.show()"
   ]
  },
  {
   "cell_type": "markdown",
   "metadata": {},
   "source": [
    "Vervolgens willen we dit sterke verband laten zien in een spreidingsdiagram en willen we hierin een regressielijn laten zien. De regressielijn maken we met behulp van de linregress functie, welke als output onder andere het snijpunt en de richtingscoëfficient laat zien. \n",
    "\n",
    "Vervolgens maken we een scatterplot waarbij de regressielijn kan worden weergegeven of worden verborgen met een checkbox. Hiertoe is in de formule voor de regressielijn 'visible' gelijk gesteld aan 'x', de input van de checkbox."
   ]
  },
  {
   "cell_type": "code",
   "execution_count": 13,
   "metadata": {},
   "outputs": [
    {
     "data": {
      "text/plain": [
       "LinregressResult(slope=0.018836000959226024, intercept=1893.496680005952, rvalue=0.9571420428256489, pvalue=9.74118723442621e-105, stderr=0.00041240368151083766)"
      ]
     },
     "execution_count": 13,
     "metadata": {},
     "output_type": "execute_result"
    }
   ],
   "source": [
    "res = linregress(df_corona_country_merge_2.TotalConfirmed, df_corona_country_merge_2.TotalDeaths)\n",
    "res"
   ]
  },
  {
   "cell_type": "code",
   "execution_count": 14,
   "metadata": {},
   "outputs": [
    {
     "data": {
      "application/vnd.jupyter.widget-view+json": {
       "model_id": "d8022c26e5ea4e65986c4085b7ddce20",
       "version_major": 2,
       "version_minor": 0
      },
      "text/plain": [
       "VBox(children=(Checkbox(value=True, description='Regressielijn'), Output()))"
      ]
     },
     "metadata": {},
     "output_type": "display_data"
    }
   ],
   "source": [
    "checkbox1 = ipywidgets.Checkbox(value=True, description='Regressielijn')\n",
    "\n",
    "def regressielijn(x):\n",
    "    g = sns.relplot(data = df_corona_country_merge_2, x = 'TotalConfirmed', y = 'TotalDeaths', kind = 'scatter', hue = 'Continent_Name', size = 'Habitants')\n",
    "\n",
    "    g.fig.suptitle('Verband tussen het aantal besmettingen en het aantal doden', y = 1.06)\n",
    "    g.set(xlabel = 'Aantal besmettingen', ylabel = 'Aantal doden')\n",
    "    \n",
    "    fx = np.array([df_corona_country_merge_2.TotalConfirmed.min(), df_corona_country_merge_2.TotalConfirmed.max()])\n",
    "    fy = res.intercept + res.slope * fx \n",
    "    plt.plot(fx, fy, '-', visible = x)\n",
    "\n",
    "out = ipywidgets.interactive_output(regressielijn, {'x': checkbox1})\n",
    "ipywidgets.VBox([checkbox1, out])"
   ]
  },
  {
   "cell_type": "markdown",
   "metadata": {},
   "source": [
    "Conclusie: \n",
    "In de scatterplot is duidelijk te zien dat er een verband is tussen het aantal besmettingen en het aantal doden, aangezien de landen redelijk dichtbij de regressielijn liggen. Ook is te zien dat landen met meer inwoners over het algemeen meer besmettingen en doden hebben. Er lijkt geen verband te zijn tussen het aantal besmettingen en aantal doden per continent. De landen die rechts van de regressielijn liggen, doen het beter dan de landen die links van de regressielijn liggen. De oorzaken hiervoor zijn waarschijnlijk coronamaatregelen of algemene gezondheid, die per land verschillen."
   ]
  },
  {
   "cell_type": "markdown",
   "metadata": {},
   "source": [
    "Om dit verband verder te onderzoeken willen we de scatterplot per continent laten zien. Dit doen we met een dropdown, waarbij de lijst van continenten de input is. Vervolgens wordt de output van deze dropdown gebruikt om de 'Continent_Name' kolom te subsetten, waardoor de grafiek zich aanpast."
   ]
  },
  {
   "cell_type": "code",
   "execution_count": 15,
   "metadata": {},
   "outputs": [
    {
     "data": {
      "application/vnd.jupyter.widget-view+json": {
       "model_id": "a3f27402368d4f329c1d40db5aaa743b",
       "version_major": 2,
       "version_minor": 0
      },
      "text/plain": [
       "interactive(children=(Dropdown(description='continent', options=('All', 'Asia', 'Europe', 'Africa', 'North Ame…"
      ]
     },
     "metadata": {},
     "output_type": "display_data"
    }
   ],
   "source": [
    "continentList = ['All']\n",
    "continentList.extend(df_corona_country_merge_2.Continent_Name.unique())\n",
    "\n",
    "continentW = ipywidgets.Dropdown(options = continentList)\n",
    "countryW = ipywidgets.Dropdown()\n",
    "\n",
    "@ipywidgets.interact(continent = continentW, country = countryW)\n",
    "def print_city(continent, country):\n",
    "    countriesList = ['All']\n",
    "    countriesList.extend(df_corona_country_merge_2[df_corona_country_merge_2.Continent_Name == continent].Country.unique())\n",
    "    countryW.options = countriesList\n",
    "    \n",
    "    if (continent == 'All'):\n",
    "        df = df_corona_country_merge_2\n",
    "    elif (country == 'All'):\n",
    "        df = df_corona_country_merge_2[df_corona_country_merge_2.Continent_Name == continent]\n",
    "    else:\n",
    "        df = df_corona_country_merge_2[df_corona_country_merge_2.Country == country]\n",
    "    \n",
    "    g = sns.relplot(data = df, x = 'TotalConfirmed', y = 'TotalDeaths', kind = 'scatter', hue = 'Habitants')\n",
    "    g.fig.suptitle('Verband tussen het aantal besmettingen en het aantal doden', y = 1.06)\n",
    "    g.set(xlabel = 'Aantal besmettingen', ylabel = 'Aantal doden', ylim=[0, df_corona_country_merge_2.TotalDeaths.max()], xlim=[0, df_corona_country_merge_2.TotalConfirmed.max()])\n",
    "    plt.show()"
   ]
  },
  {
   "cell_type": "markdown",
   "metadata": {},
   "source": [
    "Conclusie:\n",
    "Er lijkt geen sterk verschil te zijn tussen de verschillende continenten. Alleen continent 'North America' lijkt meer doden te hebben per aantal besmettingen."
   ]
  },
  {
   "cell_type": "markdown",
   "metadata": {},
   "source": [
    "### 2.4 Voorspelling\n",
    "Vervolgens kunnen we met behulp van de formule van de regressielijn een voorspelling doen van het aantal doden, gegeven het aantal besmettingen. Stel dat we willen weten hoeveel doden er zijn in Nederland als we alleen het aantal besmettingen weten, dan kunnen we de volgende formule gebruiken:"
   ]
  },
  {
   "cell_type": "code",
   "execution_count": 16,
   "metadata": {},
   "outputs": [
    {
     "data": {
      "text/plain": [
       "124    22545.90972\n",
       "Name: TotalConfirmed, dtype: float64"
      ]
     },
     "execution_count": 16,
     "metadata": {},
     "output_type": "execute_result"
    }
   ],
   "source": [
    "res.intercept+res.slope*df_corona_country_merge_2[df_corona_country_merge_2['Country'] == 'Netherlands']['TotalConfirmed']"
   ]
  },
  {
   "cell_type": "code",
   "execution_count": 17,
   "metadata": {},
   "outputs": [
    {
     "data": {
      "text/plain": [
       "124    15649\n",
       "Name: TotalDeaths, dtype: int64"
      ]
     },
     "execution_count": 17,
     "metadata": {},
     "output_type": "execute_result"
    }
   ],
   "source": [
    "df_corona_country_merge_2[df_corona_country_merge_2['Country'] == 'Netherlands']['TotalDeaths']"
   ]
  },
  {
   "cell_type": "markdown",
   "metadata": {},
   "source": [
    "Uit deze formule blijkt dat Nederland minder coronadoden (15649) heeft dan de regressievoorspelling aangeeft (22546)."
   ]
  },
  {
   "cell_type": "markdown",
   "metadata": {},
   "source": [
    "## 3. Verband tussen aantal besmettingen, toerisme en faillissementen"
   ]
  },
  {
   "cell_type": "markdown",
   "metadata": {},
   "source": [
    "We zijn ook benieuwd naar de invloed van het aantal coronabesmettingen op het toerisme en faillissementen (nieuwsberichten)."
   ]
  },
  {
   "cell_type": "markdown",
   "metadata": {},
   "source": [
    "### 3.1 Inladen coronagegevens en exploratory data analysis\n",
    "Om het verband tussen deze variabelen weer te kunnen geven hebben we historische gegevens nodig van het aantal besmettingen. Deze laden we in via een API van MMediagroup (https://mmediagroup.fr/covid-19). Deze API is ontwikkeld door studenten uit Frankrijk (Monaco). Deze API heeft twee parameters, namelijk 'cases' en 'history'. Wij gebruiken de 'history' parameter, gevolgd door een bepaalde status ('confirmed' en 'deaths'). Zie de bovenstaande link voor een volledig overzicht van alle mogelijkheden.\n",
    "\n",
    "Na het inladen bekijken we de eerste vijf regels om een indruk te krijgen van de data."
   ]
  },
  {
   "cell_type": "code",
   "execution_count": 18,
   "metadata": {},
   "outputs": [
    {
     "data": {
      "text/html": [
       "<div>\n",
       "<style scoped>\n",
       "    .dataframe tbody tr th:only-of-type {\n",
       "        vertical-align: middle;\n",
       "    }\n",
       "\n",
       "    .dataframe tbody tr th {\n",
       "        vertical-align: top;\n",
       "    }\n",
       "\n",
       "    .dataframe thead th {\n",
       "        text-align: right;\n",
       "    }\n",
       "</style>\n",
       "<table border=\"1\" class=\"dataframe\">\n",
       "  <thead>\n",
       "    <tr style=\"text-align: right;\">\n",
       "      <th></th>\n",
       "      <th>index</th>\n",
       "      <th>country</th>\n",
       "      <th>population</th>\n",
       "      <th>sq_km_area</th>\n",
       "      <th>life_expectancy</th>\n",
       "      <th>elevation_in_meters</th>\n",
       "      <th>continent</th>\n",
       "      <th>abbreviation</th>\n",
       "      <th>location</th>\n",
       "      <th>iso</th>\n",
       "      <th>capital_city</th>\n",
       "      <th>dates</th>\n",
       "    </tr>\n",
       "  </thead>\n",
       "  <tbody>\n",
       "    <tr>\n",
       "      <th>0</th>\n",
       "      <td>2020-01-22</td>\n",
       "      <td>Netherlands</td>\n",
       "      <td>17035938</td>\n",
       "      <td>41526</td>\n",
       "      <td>78.3</td>\n",
       "      <td>30</td>\n",
       "      <td>Europe</td>\n",
       "      <td>NL</td>\n",
       "      <td>Western Europe</td>\n",
       "      <td>528</td>\n",
       "      <td>Amsterdam</td>\n",
       "      <td>0</td>\n",
       "    </tr>\n",
       "    <tr>\n",
       "      <th>1</th>\n",
       "      <td>2020-01-23</td>\n",
       "      <td>Netherlands</td>\n",
       "      <td>17035938</td>\n",
       "      <td>41526</td>\n",
       "      <td>78.3</td>\n",
       "      <td>30</td>\n",
       "      <td>Europe</td>\n",
       "      <td>NL</td>\n",
       "      <td>Western Europe</td>\n",
       "      <td>528</td>\n",
       "      <td>Amsterdam</td>\n",
       "      <td>0</td>\n",
       "    </tr>\n",
       "    <tr>\n",
       "      <th>2</th>\n",
       "      <td>2020-01-24</td>\n",
       "      <td>Netherlands</td>\n",
       "      <td>17035938</td>\n",
       "      <td>41526</td>\n",
       "      <td>78.3</td>\n",
       "      <td>30</td>\n",
       "      <td>Europe</td>\n",
       "      <td>NL</td>\n",
       "      <td>Western Europe</td>\n",
       "      <td>528</td>\n",
       "      <td>Amsterdam</td>\n",
       "      <td>0</td>\n",
       "    </tr>\n",
       "    <tr>\n",
       "      <th>3</th>\n",
       "      <td>2020-01-25</td>\n",
       "      <td>Netherlands</td>\n",
       "      <td>17035938</td>\n",
       "      <td>41526</td>\n",
       "      <td>78.3</td>\n",
       "      <td>30</td>\n",
       "      <td>Europe</td>\n",
       "      <td>NL</td>\n",
       "      <td>Western Europe</td>\n",
       "      <td>528</td>\n",
       "      <td>Amsterdam</td>\n",
       "      <td>0</td>\n",
       "    </tr>\n",
       "    <tr>\n",
       "      <th>4</th>\n",
       "      <td>2020-01-26</td>\n",
       "      <td>Netherlands</td>\n",
       "      <td>17035938</td>\n",
       "      <td>41526</td>\n",
       "      <td>78.3</td>\n",
       "      <td>30</td>\n",
       "      <td>Europe</td>\n",
       "      <td>NL</td>\n",
       "      <td>Western Europe</td>\n",
       "      <td>528</td>\n",
       "      <td>Amsterdam</td>\n",
       "      <td>0</td>\n",
       "    </tr>\n",
       "  </tbody>\n",
       "</table>\n",
       "</div>"
      ],
      "text/plain": [
       "        index      country  population  sq_km_area life_expectancy  \\\n",
       "0  2020-01-22  Netherlands    17035938       41526            78.3   \n",
       "1  2020-01-23  Netherlands    17035938       41526            78.3   \n",
       "2  2020-01-24  Netherlands    17035938       41526            78.3   \n",
       "3  2020-01-25  Netherlands    17035938       41526            78.3   \n",
       "4  2020-01-26  Netherlands    17035938       41526            78.3   \n",
       "\n",
       "   elevation_in_meters continent abbreviation        location  iso  \\\n",
       "0                   30    Europe           NL  Western Europe  528   \n",
       "1                   30    Europe           NL  Western Europe  528   \n",
       "2                   30    Europe           NL  Western Europe  528   \n",
       "3                   30    Europe           NL  Western Europe  528   \n",
       "4                   30    Europe           NL  Western Europe  528   \n",
       "\n",
       "  capital_city  dates  \n",
       "0    Amsterdam      0  \n",
       "1    Amsterdam      0  \n",
       "2    Amsterdam      0  \n",
       "3    Amsterdam      0  \n",
       "4    Amsterdam      0  "
      ]
     },
     "execution_count": 18,
     "metadata": {},
     "output_type": "execute_result"
    }
   ],
   "source": [
    "url_covid_nl_history_deaths = 'https://covid-api.mmediagroup.fr/v1/history?country=Netherlands&status=deaths'\n",
    "r = requests.get(url_covid_nl_history_deaths)\n",
    "dict = r.json()['All']\n",
    "df_covid_nl_history_deaths = pd.DataFrame.from_dict(dict).reset_index()\n",
    "df_covid_nl_history_deaths.head()"
   ]
  },
  {
   "cell_type": "markdown",
   "metadata": {},
   "source": [
    "Het blijkt dat er geen missende waarden zijn en dat de dtypes logisch zijn bij de verschillende variabelen."
   ]
  },
  {
   "cell_type": "code",
   "execution_count": 19,
   "metadata": {},
   "outputs": [
    {
     "name": "stdout",
     "output_type": "stream",
     "text": [
      "<class 'pandas.core.frame.DataFrame'>\n",
      "RangeIndex: 406 entries, 0 to 405\n",
      "Data columns (total 12 columns):\n",
      " #   Column               Non-Null Count  Dtype \n",
      "---  ------               --------------  ----- \n",
      " 0   index                406 non-null    object\n",
      " 1   country              406 non-null    object\n",
      " 2   population           406 non-null    int64 \n",
      " 3   sq_km_area           406 non-null    int64 \n",
      " 4   life_expectancy      406 non-null    object\n",
      " 5   elevation_in_meters  406 non-null    int64 \n",
      " 6   continent            406 non-null    object\n",
      " 7   abbreviation         406 non-null    object\n",
      " 8   location             406 non-null    object\n",
      " 9   iso                  406 non-null    int64 \n",
      " 10  capital_city         406 non-null    object\n",
      " 11  dates                406 non-null    int64 \n",
      "dtypes: int64(5), object(7)\n",
      "memory usage: 38.2+ KB\n"
     ]
    }
   ],
   "source": [
    "df_covid_nl_history_deaths.info()"
   ]
  },
  {
   "cell_type": "markdown",
   "metadata": {},
   "source": [
    "De namen van de kolommmen 'index' en 'dates' zijn niet logisch gekozen en die passen we dus aan. Ook willen we de 'date' kolom omzetten naar een datatime datatype, aangezien dat voordelen oplevert bij het maken van visualisaties (x-as wordt automatisch aangepast naar de data). Ook blijkt dat de gegevens cumulatief zijn, maar wij willen ook de gegevens per dag. Tenslotte halen we de niet benodigde kolommen eruit. Daarna checken we of de bewerkingen zijn gelukt met .head() en .info()."
   ]
  },
  {
   "cell_type": "code",
   "execution_count": 20,
   "metadata": {},
   "outputs": [
    {
     "data": {
      "text/html": [
       "<div>\n",
       "<style scoped>\n",
       "    .dataframe tbody tr th:only-of-type {\n",
       "        vertical-align: middle;\n",
       "    }\n",
       "\n",
       "    .dataframe tbody tr th {\n",
       "        vertical-align: top;\n",
       "    }\n",
       "\n",
       "    .dataframe thead th {\n",
       "        text-align: right;\n",
       "    }\n",
       "</style>\n",
       "<table border=\"1\" class=\"dataframe\">\n",
       "  <thead>\n",
       "    <tr style=\"text-align: right;\">\n",
       "      <th></th>\n",
       "      <th>date</th>\n",
       "      <th>country</th>\n",
       "      <th>continent</th>\n",
       "      <th>abbreviation</th>\n",
       "      <th>deaths cumulative</th>\n",
       "      <th>deaths per day</th>\n",
       "    </tr>\n",
       "  </thead>\n",
       "  <tbody>\n",
       "    <tr>\n",
       "      <th>0</th>\n",
       "      <td>2020-01-22</td>\n",
       "      <td>Netherlands</td>\n",
       "      <td>Europe</td>\n",
       "      <td>NL</td>\n",
       "      <td>0</td>\n",
       "      <td>0.0</td>\n",
       "    </tr>\n",
       "    <tr>\n",
       "      <th>1</th>\n",
       "      <td>2020-01-23</td>\n",
       "      <td>Netherlands</td>\n",
       "      <td>Europe</td>\n",
       "      <td>NL</td>\n",
       "      <td>0</td>\n",
       "      <td>0.0</td>\n",
       "    </tr>\n",
       "    <tr>\n",
       "      <th>2</th>\n",
       "      <td>2020-01-24</td>\n",
       "      <td>Netherlands</td>\n",
       "      <td>Europe</td>\n",
       "      <td>NL</td>\n",
       "      <td>0</td>\n",
       "      <td>0.0</td>\n",
       "    </tr>\n",
       "    <tr>\n",
       "      <th>3</th>\n",
       "      <td>2020-01-25</td>\n",
       "      <td>Netherlands</td>\n",
       "      <td>Europe</td>\n",
       "      <td>NL</td>\n",
       "      <td>0</td>\n",
       "      <td>0.0</td>\n",
       "    </tr>\n",
       "    <tr>\n",
       "      <th>4</th>\n",
       "      <td>2020-01-26</td>\n",
       "      <td>Netherlands</td>\n",
       "      <td>Europe</td>\n",
       "      <td>NL</td>\n",
       "      <td>0</td>\n",
       "      <td>0.0</td>\n",
       "    </tr>\n",
       "  </tbody>\n",
       "</table>\n",
       "</div>"
      ],
      "text/plain": [
       "        date      country continent abbreviation  deaths cumulative  \\\n",
       "0 2020-01-22  Netherlands    Europe           NL                  0   \n",
       "1 2020-01-23  Netherlands    Europe           NL                  0   \n",
       "2 2020-01-24  Netherlands    Europe           NL                  0   \n",
       "3 2020-01-25  Netherlands    Europe           NL                  0   \n",
       "4 2020-01-26  Netherlands    Europe           NL                  0   \n",
       "\n",
       "   deaths per day  \n",
       "0             0.0  \n",
       "1             0.0  \n",
       "2             0.0  \n",
       "3             0.0  \n",
       "4             0.0  "
      ]
     },
     "execution_count": 20,
     "metadata": {},
     "output_type": "execute_result"
    }
   ],
   "source": [
    "df_covid_nl_history_deaths.rename(columns={'index':'date', 'dates':'deaths cumulative'}, inplace=True)\n",
    "df_covid_nl_history_deaths['date']= pd.to_datetime(df_covid_nl_history_deaths['date'])\n",
    "df_covid_nl_history_deaths['deaths per day'] = df_covid_nl_history_deaths['deaths cumulative'].diff().fillna(0)\n",
    "df_covid_nl_history_deaths.drop(['population', 'sq_km_area', 'life_expectancy', 'elevation_in_meters', 'location', 'iso', 'capital_city'], axis=1, inplace=True)\n",
    "df_covid_nl_history_deaths.head()"
   ]
  },
  {
   "cell_type": "code",
   "execution_count": 21,
   "metadata": {},
   "outputs": [
    {
     "name": "stdout",
     "output_type": "stream",
     "text": [
      "<class 'pandas.core.frame.DataFrame'>\n",
      "RangeIndex: 406 entries, 0 to 405\n",
      "Data columns (total 6 columns):\n",
      " #   Column             Non-Null Count  Dtype         \n",
      "---  ------             --------------  -----         \n",
      " 0   date               406 non-null    datetime64[ns]\n",
      " 1   country            406 non-null    object        \n",
      " 2   continent          406 non-null    object        \n",
      " 3   abbreviation       406 non-null    object        \n",
      " 4   deaths cumulative  406 non-null    int64         \n",
      " 5   deaths per day     406 non-null    float64       \n",
      "dtypes: datetime64[ns](1), float64(1), int64(1), object(3)\n",
      "memory usage: 19.2+ KB\n"
     ]
    }
   ],
   "source": [
    "df_covid_nl_history_deaths.info()"
   ]
  },
  {
   "cell_type": "markdown",
   "metadata": {},
   "source": [
    "Naast het aantal doden per dag zijn we ook geïnteresseerd naar het aantal besmettingen per dag. Deze halen we uit dezelfde API als hierboven beschreven (https://mmediagroup.fr/covid-19).\n",
    "\n",
    "Na het inladen bekijken we de eerste vijf regels om een indruk te krijgen van de data."
   ]
  },
  {
   "cell_type": "code",
   "execution_count": 22,
   "metadata": {},
   "outputs": [
    {
     "data": {
      "text/html": [
       "<div>\n",
       "<style scoped>\n",
       "    .dataframe tbody tr th:only-of-type {\n",
       "        vertical-align: middle;\n",
       "    }\n",
       "\n",
       "    .dataframe tbody tr th {\n",
       "        vertical-align: top;\n",
       "    }\n",
       "\n",
       "    .dataframe thead th {\n",
       "        text-align: right;\n",
       "    }\n",
       "</style>\n",
       "<table border=\"1\" class=\"dataframe\">\n",
       "  <thead>\n",
       "    <tr style=\"text-align: right;\">\n",
       "      <th></th>\n",
       "      <th>index</th>\n",
       "      <th>country</th>\n",
       "      <th>population</th>\n",
       "      <th>sq_km_area</th>\n",
       "      <th>life_expectancy</th>\n",
       "      <th>elevation_in_meters</th>\n",
       "      <th>continent</th>\n",
       "      <th>abbreviation</th>\n",
       "      <th>location</th>\n",
       "      <th>iso</th>\n",
       "      <th>capital_city</th>\n",
       "      <th>dates</th>\n",
       "    </tr>\n",
       "  </thead>\n",
       "  <tbody>\n",
       "    <tr>\n",
       "      <th>0</th>\n",
       "      <td>2020-01-22</td>\n",
       "      <td>Netherlands</td>\n",
       "      <td>17035938</td>\n",
       "      <td>41526</td>\n",
       "      <td>78.3</td>\n",
       "      <td>30</td>\n",
       "      <td>Europe</td>\n",
       "      <td>NL</td>\n",
       "      <td>Western Europe</td>\n",
       "      <td>528</td>\n",
       "      <td>Amsterdam</td>\n",
       "      <td>0</td>\n",
       "    </tr>\n",
       "    <tr>\n",
       "      <th>1</th>\n",
       "      <td>2020-01-23</td>\n",
       "      <td>Netherlands</td>\n",
       "      <td>17035938</td>\n",
       "      <td>41526</td>\n",
       "      <td>78.3</td>\n",
       "      <td>30</td>\n",
       "      <td>Europe</td>\n",
       "      <td>NL</td>\n",
       "      <td>Western Europe</td>\n",
       "      <td>528</td>\n",
       "      <td>Amsterdam</td>\n",
       "      <td>0</td>\n",
       "    </tr>\n",
       "    <tr>\n",
       "      <th>2</th>\n",
       "      <td>2020-01-24</td>\n",
       "      <td>Netherlands</td>\n",
       "      <td>17035938</td>\n",
       "      <td>41526</td>\n",
       "      <td>78.3</td>\n",
       "      <td>30</td>\n",
       "      <td>Europe</td>\n",
       "      <td>NL</td>\n",
       "      <td>Western Europe</td>\n",
       "      <td>528</td>\n",
       "      <td>Amsterdam</td>\n",
       "      <td>0</td>\n",
       "    </tr>\n",
       "    <tr>\n",
       "      <th>3</th>\n",
       "      <td>2020-01-25</td>\n",
       "      <td>Netherlands</td>\n",
       "      <td>17035938</td>\n",
       "      <td>41526</td>\n",
       "      <td>78.3</td>\n",
       "      <td>30</td>\n",
       "      <td>Europe</td>\n",
       "      <td>NL</td>\n",
       "      <td>Western Europe</td>\n",
       "      <td>528</td>\n",
       "      <td>Amsterdam</td>\n",
       "      <td>0</td>\n",
       "    </tr>\n",
       "    <tr>\n",
       "      <th>4</th>\n",
       "      <td>2020-01-26</td>\n",
       "      <td>Netherlands</td>\n",
       "      <td>17035938</td>\n",
       "      <td>41526</td>\n",
       "      <td>78.3</td>\n",
       "      <td>30</td>\n",
       "      <td>Europe</td>\n",
       "      <td>NL</td>\n",
       "      <td>Western Europe</td>\n",
       "      <td>528</td>\n",
       "      <td>Amsterdam</td>\n",
       "      <td>0</td>\n",
       "    </tr>\n",
       "  </tbody>\n",
       "</table>\n",
       "</div>"
      ],
      "text/plain": [
       "        index      country  population  sq_km_area life_expectancy  \\\n",
       "0  2020-01-22  Netherlands    17035938       41526            78.3   \n",
       "1  2020-01-23  Netherlands    17035938       41526            78.3   \n",
       "2  2020-01-24  Netherlands    17035938       41526            78.3   \n",
       "3  2020-01-25  Netherlands    17035938       41526            78.3   \n",
       "4  2020-01-26  Netherlands    17035938       41526            78.3   \n",
       "\n",
       "   elevation_in_meters continent abbreviation        location  iso  \\\n",
       "0                   30    Europe           NL  Western Europe  528   \n",
       "1                   30    Europe           NL  Western Europe  528   \n",
       "2                   30    Europe           NL  Western Europe  528   \n",
       "3                   30    Europe           NL  Western Europe  528   \n",
       "4                   30    Europe           NL  Western Europe  528   \n",
       "\n",
       "  capital_city  dates  \n",
       "0    Amsterdam      0  \n",
       "1    Amsterdam      0  \n",
       "2    Amsterdam      0  \n",
       "3    Amsterdam      0  \n",
       "4    Amsterdam      0  "
      ]
     },
     "execution_count": 22,
     "metadata": {},
     "output_type": "execute_result"
    }
   ],
   "source": [
    "url_covid_nl_history_confirmed = 'https://covid-api.mmediagroup.fr/v1/history?country=Netherlands&status=confirmed'\n",
    "r = requests.get(url_covid_nl_history_confirmed)\n",
    "dict = r.json()['All']\n",
    "df_covid_nl_history_confirmed = pd.DataFrame.from_dict(dict).reset_index()\n",
    "df_covid_nl_history_confirmed.head()"
   ]
  },
  {
   "cell_type": "markdown",
   "metadata": {},
   "source": [
    "Het blijkt dat er geen missende waarden zijn en dat de dtypes logisch zijn bij de verschillende variabelen."
   ]
  },
  {
   "cell_type": "code",
   "execution_count": 23,
   "metadata": {},
   "outputs": [
    {
     "name": "stdout",
     "output_type": "stream",
     "text": [
      "<class 'pandas.core.frame.DataFrame'>\n",
      "RangeIndex: 406 entries, 0 to 405\n",
      "Data columns (total 12 columns):\n",
      " #   Column               Non-Null Count  Dtype \n",
      "---  ------               --------------  ----- \n",
      " 0   index                406 non-null    object\n",
      " 1   country              406 non-null    object\n",
      " 2   population           406 non-null    int64 \n",
      " 3   sq_km_area           406 non-null    int64 \n",
      " 4   life_expectancy      406 non-null    object\n",
      " 5   elevation_in_meters  406 non-null    int64 \n",
      " 6   continent            406 non-null    object\n",
      " 7   abbreviation         406 non-null    object\n",
      " 8   location             406 non-null    object\n",
      " 9   iso                  406 non-null    int64 \n",
      " 10  capital_city         406 non-null    object\n",
      " 11  dates                406 non-null    int64 \n",
      "dtypes: int64(5), object(7)\n",
      "memory usage: 38.2+ KB\n"
     ]
    }
   ],
   "source": [
    "df_covid_nl_history_confirmed.info()"
   ]
  },
  {
   "cell_type": "markdown",
   "metadata": {},
   "source": [
    "Net zoals bij het inladen van het aantal doden zijn de namen van de kolommmen 'index' en 'dates' niet logisch gekozen en die passen we dus aan. Ook blijkt dat de gegevens cumulatief zijn, maar wij willen ook de gegevens per dag. We hebben alleen de kolommen 'confirmed cumulative' en 'confirmed per day' nodig, aangezien de overige kolommen al aanwezig zijn in 'df_covid_nl_history_deaths'. Daarna checken we of de bewerkingen zijn gelukt met .head() en .info()."
   ]
  },
  {
   "cell_type": "code",
   "execution_count": 24,
   "metadata": {},
   "outputs": [
    {
     "data": {
      "text/html": [
       "<div>\n",
       "<style scoped>\n",
       "    .dataframe tbody tr th:only-of-type {\n",
       "        vertical-align: middle;\n",
       "    }\n",
       "\n",
       "    .dataframe tbody tr th {\n",
       "        vertical-align: top;\n",
       "    }\n",
       "\n",
       "    .dataframe thead th {\n",
       "        text-align: right;\n",
       "    }\n",
       "</style>\n",
       "<table border=\"1\" class=\"dataframe\">\n",
       "  <thead>\n",
       "    <tr style=\"text-align: right;\">\n",
       "      <th></th>\n",
       "      <th>confirmed cumulative</th>\n",
       "      <th>confirmed per day</th>\n",
       "    </tr>\n",
       "  </thead>\n",
       "  <tbody>\n",
       "    <tr>\n",
       "      <th>0</th>\n",
       "      <td>0</td>\n",
       "      <td>0.0</td>\n",
       "    </tr>\n",
       "    <tr>\n",
       "      <th>1</th>\n",
       "      <td>0</td>\n",
       "      <td>0.0</td>\n",
       "    </tr>\n",
       "    <tr>\n",
       "      <th>2</th>\n",
       "      <td>0</td>\n",
       "      <td>0.0</td>\n",
       "    </tr>\n",
       "    <tr>\n",
       "      <th>3</th>\n",
       "      <td>0</td>\n",
       "      <td>0.0</td>\n",
       "    </tr>\n",
       "    <tr>\n",
       "      <th>4</th>\n",
       "      <td>0</td>\n",
       "      <td>0.0</td>\n",
       "    </tr>\n",
       "  </tbody>\n",
       "</table>\n",
       "</div>"
      ],
      "text/plain": [
       "   confirmed cumulative  confirmed per day\n",
       "0                     0                0.0\n",
       "1                     0                0.0\n",
       "2                     0                0.0\n",
       "3                     0                0.0\n",
       "4                     0                0.0"
      ]
     },
     "execution_count": 24,
     "metadata": {},
     "output_type": "execute_result"
    }
   ],
   "source": [
    "df_covid_nl_history_confirmed.rename(columns={'dates':'confirmed cumulative'}, inplace=True)\n",
    "df_covid_nl_history_confirmed['confirmed per day'] = df_covid_nl_history_confirmed['confirmed cumulative'].diff().fillna(0)\n",
    "df_covid_nl_history_confirmed = df_covid_nl_history_confirmed[['confirmed cumulative', 'confirmed per day']]\n",
    "df_covid_nl_history_confirmed.head()"
   ]
  },
  {
   "cell_type": "code",
   "execution_count": 25,
   "metadata": {},
   "outputs": [
    {
     "name": "stdout",
     "output_type": "stream",
     "text": [
      "<class 'pandas.core.frame.DataFrame'>\n",
      "RangeIndex: 406 entries, 0 to 405\n",
      "Data columns (total 2 columns):\n",
      " #   Column                Non-Null Count  Dtype  \n",
      "---  ------                --------------  -----  \n",
      " 0   confirmed cumulative  406 non-null    int64  \n",
      " 1   confirmed per day     406 non-null    float64\n",
      "dtypes: float64(1), int64(1)\n",
      "memory usage: 6.5 KB\n"
     ]
    }
   ],
   "source": [
    "df_covid_nl_history_confirmed.info()"
   ]
  },
  {
   "cell_type": "markdown",
   "metadata": {},
   "source": [
    "### 3.2 Samenvoegen gegevens\n",
    "De twee datasets die we hebben ingeladen willen we combineren tot één tabel om er analyses mee uit te kunnen voeren. Dat doen we met de functie concat(). De eerste vijf regels zijn weergegeven om het resultaat te laten zien."
   ]
  },
  {
   "cell_type": "code",
   "execution_count": 26,
   "metadata": {},
   "outputs": [
    {
     "data": {
      "text/html": [
       "<div>\n",
       "<style scoped>\n",
       "    .dataframe tbody tr th:only-of-type {\n",
       "        vertical-align: middle;\n",
       "    }\n",
       "\n",
       "    .dataframe tbody tr th {\n",
       "        vertical-align: top;\n",
       "    }\n",
       "\n",
       "    .dataframe thead th {\n",
       "        text-align: right;\n",
       "    }\n",
       "</style>\n",
       "<table border=\"1\" class=\"dataframe\">\n",
       "  <thead>\n",
       "    <tr style=\"text-align: right;\">\n",
       "      <th></th>\n",
       "      <th>date</th>\n",
       "      <th>country</th>\n",
       "      <th>continent</th>\n",
       "      <th>abbreviation</th>\n",
       "      <th>deaths cumulative</th>\n",
       "      <th>deaths per day</th>\n",
       "      <th>confirmed cumulative</th>\n",
       "      <th>confirmed per day</th>\n",
       "    </tr>\n",
       "  </thead>\n",
       "  <tbody>\n",
       "    <tr>\n",
       "      <th>0</th>\n",
       "      <td>2020-01-22</td>\n",
       "      <td>Netherlands</td>\n",
       "      <td>Europe</td>\n",
       "      <td>NL</td>\n",
       "      <td>0</td>\n",
       "      <td>0.0</td>\n",
       "      <td>0</td>\n",
       "      <td>0.0</td>\n",
       "    </tr>\n",
       "    <tr>\n",
       "      <th>1</th>\n",
       "      <td>2020-01-23</td>\n",
       "      <td>Netherlands</td>\n",
       "      <td>Europe</td>\n",
       "      <td>NL</td>\n",
       "      <td>0</td>\n",
       "      <td>0.0</td>\n",
       "      <td>0</td>\n",
       "      <td>0.0</td>\n",
       "    </tr>\n",
       "    <tr>\n",
       "      <th>2</th>\n",
       "      <td>2020-01-24</td>\n",
       "      <td>Netherlands</td>\n",
       "      <td>Europe</td>\n",
       "      <td>NL</td>\n",
       "      <td>0</td>\n",
       "      <td>0.0</td>\n",
       "      <td>0</td>\n",
       "      <td>0.0</td>\n",
       "    </tr>\n",
       "    <tr>\n",
       "      <th>3</th>\n",
       "      <td>2020-01-25</td>\n",
       "      <td>Netherlands</td>\n",
       "      <td>Europe</td>\n",
       "      <td>NL</td>\n",
       "      <td>0</td>\n",
       "      <td>0.0</td>\n",
       "      <td>0</td>\n",
       "      <td>0.0</td>\n",
       "    </tr>\n",
       "    <tr>\n",
       "      <th>4</th>\n",
       "      <td>2020-01-26</td>\n",
       "      <td>Netherlands</td>\n",
       "      <td>Europe</td>\n",
       "      <td>NL</td>\n",
       "      <td>0</td>\n",
       "      <td>0.0</td>\n",
       "      <td>0</td>\n",
       "      <td>0.0</td>\n",
       "    </tr>\n",
       "  </tbody>\n",
       "</table>\n",
       "</div>"
      ],
      "text/plain": [
       "        date      country continent abbreviation  deaths cumulative  \\\n",
       "0 2020-01-22  Netherlands    Europe           NL                  0   \n",
       "1 2020-01-23  Netherlands    Europe           NL                  0   \n",
       "2 2020-01-24  Netherlands    Europe           NL                  0   \n",
       "3 2020-01-25  Netherlands    Europe           NL                  0   \n",
       "4 2020-01-26  Netherlands    Europe           NL                  0   \n",
       "\n",
       "   deaths per day  confirmed cumulative  confirmed per day  \n",
       "0             0.0                     0                0.0  \n",
       "1             0.0                     0                0.0  \n",
       "2             0.0                     0                0.0  \n",
       "3             0.0                     0                0.0  \n",
       "4             0.0                     0                0.0  "
      ]
     },
     "execution_count": 26,
     "metadata": {},
     "output_type": "execute_result"
    }
   ],
   "source": [
    "df_covid_nl_history = pd.concat([df_covid_nl_history_deaths, df_covid_nl_history_confirmed], axis=1)\n",
    "df_covid_nl_history.head()"
   ]
  },
  {
   "cell_type": "markdown",
   "metadata": {},
   "source": [
    "### 3.3 Verbanden visualiseren (besmettingen en doden)\n",
    "Om de bovenstaande tabel te visualiseren maken we een lijngrafiek. Er is een dropdown toegevoegd waarmee er kan worden geswitcht tussen het aantal besmettingen en het aantal doden of cumulatieve gegevens of gegevens per dag. De dropdown wordt gebruikt als input voor de y-as."
   ]
  },
  {
   "cell_type": "code",
   "execution_count": 27,
   "metadata": {},
   "outputs": [
    {
     "data": {
      "application/vnd.jupyter.widget-view+json": {
       "model_id": "2bbd55f1871e4493bc07715bc8af11c1",
       "version_major": 2,
       "version_minor": 0
      },
      "text/plain": [
       "VBox(children=(Dropdown(options=('confirmed per day', 'confirmed cumulative', 'deaths per day', 'deaths cumula…"
      ]
     },
     "metadata": {},
     "output_type": "display_data"
    }
   ],
   "source": [
    "dropdown = ipywidgets.Dropdown(options = ['confirmed per day', 'confirmed cumulative', 'deaths per day', 'deaths cumulative'])\n",
    "\n",
    "def plot(x):\n",
    "    g = sns.relplot(data=df_covid_nl_history, x='date', y= x, kind='line', aspect = 1.5)\n",
    "    g.fig.suptitle('Aantal coronabesmettingen/coronadoden in 2020 ', y = 1.07)\n",
    "    g.set(xlabel = 'Datum (jaar-maand)', ylabel = 'Aantal besmettingen/doden')\n",
    "    \n",
    "out = ipywidgets.interactive_output(plot, {'x': dropdown})\n",
    "ipywidgets.VBox([dropdown, out])"
   ]
  },
  {
   "cell_type": "markdown",
   "metadata": {},
   "source": [
    "Conclusie:\n",
    "In de grafieken waarbij de gegevens per dag zijn opgenomen zijn de coronagolven (april 2020, november 2020, januari 2021) duidelijk zichtbaar. Dit verband is minder goed zichtbaar in de cumulatieve grafieken, maar de grote stijging na de zomer van 2020 is wel duidelijk."
   ]
  },
  {
   "cell_type": "markdown",
   "metadata": {},
   "source": [
    "### 3.4 Inladen gegevens (toerisme)\n",
    "Omdat wij ook het verband willen laten zien tussen de coronacijfers en het toerisme hebben wij hier ook een dataset voor ingeladen. Gegevens over het toerisme in Nederland hebben wij bij het CBS gedownload naar een csv bestand https://opendata.cbs.nl/statline/#/CBS/en/dataset/82061ENG/line?ts=1614612314842. Het CBS verzamelt veel data op veel verschillende gebieden en die zijn vaak vrij beschikbaar voor iedereen. De gegevens in de csv gaan vanaf april 2019 tot december 2020, zodat het verschil voor en na corona goed zichtbaar is.\n",
    "\n",
    "Om een indruk te krijgen van de data hebben we de dataset weergegeven."
   ]
  },
  {
   "cell_type": "code",
   "execution_count": 28,
   "metadata": {},
   "outputs": [
    {
     "data": {
      "text/html": [
       "<div>\n",
       "<style scoped>\n",
       "    .dataframe tbody tr th:only-of-type {\n",
       "        vertical-align: middle;\n",
       "    }\n",
       "\n",
       "    .dataframe tbody tr th {\n",
       "        vertical-align: top;\n",
       "    }\n",
       "\n",
       "    .dataframe thead th {\n",
       "        text-align: right;\n",
       "    }\n",
       "</style>\n",
       "<table border=\"1\" class=\"dataframe\">\n",
       "  <thead>\n",
       "    <tr style=\"text-align: right;\">\n",
       "      <th></th>\n",
       "      <th>Country of residence</th>\n",
       "      <th>Periods</th>\n",
       "      <th>Regions</th>\n",
       "      <th>Guests (x 1 000)</th>\n",
       "    </tr>\n",
       "  </thead>\n",
       "  <tbody>\n",
       "    <tr>\n",
       "      <th>0</th>\n",
       "      <td>All countries</td>\n",
       "      <td>2019 April</td>\n",
       "      <td>Nederland</td>\n",
       "      <td>2765</td>\n",
       "    </tr>\n",
       "    <tr>\n",
       "      <th>1</th>\n",
       "      <td>All countries</td>\n",
       "      <td>2019 May</td>\n",
       "      <td>Nederland</td>\n",
       "      <td>2745</td>\n",
       "    </tr>\n",
       "    <tr>\n",
       "      <th>2</th>\n",
       "      <td>All countries</td>\n",
       "      <td>2019 June</td>\n",
       "      <td>Nederland</td>\n",
       "      <td>2852</td>\n",
       "    </tr>\n",
       "    <tr>\n",
       "      <th>3</th>\n",
       "      <td>All countries</td>\n",
       "      <td>2019 July</td>\n",
       "      <td>Nederland</td>\n",
       "      <td>2853</td>\n",
       "    </tr>\n",
       "    <tr>\n",
       "      <th>4</th>\n",
       "      <td>All countries</td>\n",
       "      <td>2019 August</td>\n",
       "      <td>Nederland</td>\n",
       "      <td>2919</td>\n",
       "    </tr>\n",
       "    <tr>\n",
       "      <th>5</th>\n",
       "      <td>All countries</td>\n",
       "      <td>2019 September</td>\n",
       "      <td>Nederland</td>\n",
       "      <td>2663</td>\n",
       "    </tr>\n",
       "    <tr>\n",
       "      <th>6</th>\n",
       "      <td>All countries</td>\n",
       "      <td>2019 October</td>\n",
       "      <td>Nederland</td>\n",
       "      <td>2745</td>\n",
       "    </tr>\n",
       "    <tr>\n",
       "      <th>7</th>\n",
       "      <td>All countries</td>\n",
       "      <td>2019 November</td>\n",
       "      <td>Nederland</td>\n",
       "      <td>2407</td>\n",
       "    </tr>\n",
       "    <tr>\n",
       "      <th>8</th>\n",
       "      <td>All countries</td>\n",
       "      <td>2019 December</td>\n",
       "      <td>Nederland</td>\n",
       "      <td>2237</td>\n",
       "    </tr>\n",
       "    <tr>\n",
       "      <th>9</th>\n",
       "      <td>All countries</td>\n",
       "      <td>2020 January*</td>\n",
       "      <td>Nederland</td>\n",
       "      <td>2021</td>\n",
       "    </tr>\n",
       "    <tr>\n",
       "      <th>10</th>\n",
       "      <td>All countries</td>\n",
       "      <td>2020 February*</td>\n",
       "      <td>Nederland</td>\n",
       "      <td>2146</td>\n",
       "    </tr>\n",
       "    <tr>\n",
       "      <th>11</th>\n",
       "      <td>All countries</td>\n",
       "      <td>2020 March*</td>\n",
       "      <td>Nederland</td>\n",
       "      <td>1007</td>\n",
       "    </tr>\n",
       "    <tr>\n",
       "      <th>12</th>\n",
       "      <td>All countries</td>\n",
       "      <td>2020 April*</td>\n",
       "      <td>Nederland</td>\n",
       "      <td>138</td>\n",
       "    </tr>\n",
       "    <tr>\n",
       "      <th>13</th>\n",
       "      <td>All countries</td>\n",
       "      <td>2020 May*</td>\n",
       "      <td>Nederland</td>\n",
       "      <td>557</td>\n",
       "    </tr>\n",
       "    <tr>\n",
       "      <th>14</th>\n",
       "      <td>All countries</td>\n",
       "      <td>2020 June*</td>\n",
       "      <td>Nederland</td>\n",
       "      <td>1278</td>\n",
       "    </tr>\n",
       "    <tr>\n",
       "      <th>15</th>\n",
       "      <td>All countries</td>\n",
       "      <td>2020 July*</td>\n",
       "      <td>Nederland</td>\n",
       "      <td>2172</td>\n",
       "    </tr>\n",
       "    <tr>\n",
       "      <th>16</th>\n",
       "      <td>All countries</td>\n",
       "      <td>2020 August*</td>\n",
       "      <td>Nederland</td>\n",
       "      <td>2392</td>\n",
       "    </tr>\n",
       "    <tr>\n",
       "      <th>17</th>\n",
       "      <td>All countries</td>\n",
       "      <td>2020 September*</td>\n",
       "      <td>Nederland</td>\n",
       "      <td>1809</td>\n",
       "    </tr>\n",
       "    <tr>\n",
       "      <th>18</th>\n",
       "      <td>All countries</td>\n",
       "      <td>2020 October*</td>\n",
       "      <td>Nederland</td>\n",
       "      <td>1180</td>\n",
       "    </tr>\n",
       "    <tr>\n",
       "      <th>19</th>\n",
       "      <td>All countries</td>\n",
       "      <td>2020 November*</td>\n",
       "      <td>Nederland</td>\n",
       "      <td>909</td>\n",
       "    </tr>\n",
       "    <tr>\n",
       "      <th>20</th>\n",
       "      <td>All countries</td>\n",
       "      <td>2020 December*</td>\n",
       "      <td>Nederland</td>\n",
       "      <td>768</td>\n",
       "    </tr>\n",
       "  </tbody>\n",
       "</table>\n",
       "</div>"
      ],
      "text/plain": [
       "   Country of residence          Periods    Regions  Guests (x 1 000)\n",
       "0         All countries       2019 April  Nederland              2765\n",
       "1         All countries         2019 May  Nederland              2745\n",
       "2         All countries        2019 June  Nederland              2852\n",
       "3         All countries        2019 July  Nederland              2853\n",
       "4         All countries      2019 August  Nederland              2919\n",
       "5         All countries   2019 September  Nederland              2663\n",
       "6         All countries     2019 October  Nederland              2745\n",
       "7         All countries    2019 November  Nederland              2407\n",
       "8         All countries    2019 December  Nederland              2237\n",
       "9         All countries    2020 January*  Nederland              2021\n",
       "10        All countries   2020 February*  Nederland              2146\n",
       "11        All countries      2020 March*  Nederland              1007\n",
       "12        All countries      2020 April*  Nederland               138\n",
       "13        All countries        2020 May*  Nederland               557\n",
       "14        All countries       2020 June*  Nederland              1278\n",
       "15        All countries       2020 July*  Nederland              2172\n",
       "16        All countries     2020 August*  Nederland              2392\n",
       "17        All countries  2020 September*  Nederland              1809\n",
       "18        All countries    2020 October*  Nederland              1180\n",
       "19        All countries   2020 November*  Nederland               909\n",
       "20        All countries   2020 December*  Nederland               768"
      ]
     },
     "execution_count": 28,
     "metadata": {},
     "output_type": "execute_result"
    }
   ],
   "source": [
    "df_toerisme = pd.read_csv(\"https://opendata.cbs.nl/CsvDownload/csv/82061ENG/TypedDataSet?dl=4D5D5\", sep = ';')\n",
    "df_toerisme"
   ]
  },
  {
   "cell_type": "markdown",
   "metadata": {},
   "source": [
    "Achter de data vanaf 2020 staat een sterretje, wat CBS gebruikt om aan te geven dat de data nog kan wijzigen. Voor de analyse hebben we deze niet nodig en hebben wij deze dus verwijderd. Ook hebben we het datatype gewijzigd naar datetime. Uit de informatie van de dataframe blijkt dat de bewerkingen zijn gelukt en we geen missende data hebben."
   ]
  },
  {
   "cell_type": "code",
   "execution_count": 29,
   "metadata": {},
   "outputs": [
    {
     "data": {
      "text/html": [
       "<div>\n",
       "<style scoped>\n",
       "    .dataframe tbody tr th:only-of-type {\n",
       "        vertical-align: middle;\n",
       "    }\n",
       "\n",
       "    .dataframe tbody tr th {\n",
       "        vertical-align: top;\n",
       "    }\n",
       "\n",
       "    .dataframe thead th {\n",
       "        text-align: right;\n",
       "    }\n",
       "</style>\n",
       "<table border=\"1\" class=\"dataframe\">\n",
       "  <thead>\n",
       "    <tr style=\"text-align: right;\">\n",
       "      <th></th>\n",
       "      <th>Country of residence</th>\n",
       "      <th>Periods</th>\n",
       "      <th>Regions</th>\n",
       "      <th>Guests (x 1 000)</th>\n",
       "    </tr>\n",
       "  </thead>\n",
       "  <tbody>\n",
       "    <tr>\n",
       "      <th>0</th>\n",
       "      <td>All countries</td>\n",
       "      <td>2019-04-01</td>\n",
       "      <td>Nederland</td>\n",
       "      <td>2765</td>\n",
       "    </tr>\n",
       "    <tr>\n",
       "      <th>1</th>\n",
       "      <td>All countries</td>\n",
       "      <td>2019-05-01</td>\n",
       "      <td>Nederland</td>\n",
       "      <td>2745</td>\n",
       "    </tr>\n",
       "    <tr>\n",
       "      <th>2</th>\n",
       "      <td>All countries</td>\n",
       "      <td>2019-06-01</td>\n",
       "      <td>Nederland</td>\n",
       "      <td>2852</td>\n",
       "    </tr>\n",
       "    <tr>\n",
       "      <th>3</th>\n",
       "      <td>All countries</td>\n",
       "      <td>2019-07-01</td>\n",
       "      <td>Nederland</td>\n",
       "      <td>2853</td>\n",
       "    </tr>\n",
       "    <tr>\n",
       "      <th>4</th>\n",
       "      <td>All countries</td>\n",
       "      <td>2019-08-01</td>\n",
       "      <td>Nederland</td>\n",
       "      <td>2919</td>\n",
       "    </tr>\n",
       "  </tbody>\n",
       "</table>\n",
       "</div>"
      ],
      "text/plain": [
       "  Country of residence    Periods    Regions  Guests (x 1 000)\n",
       "0        All countries 2019-04-01  Nederland              2765\n",
       "1        All countries 2019-05-01  Nederland              2745\n",
       "2        All countries 2019-06-01  Nederland              2852\n",
       "3        All countries 2019-07-01  Nederland              2853\n",
       "4        All countries 2019-08-01  Nederland              2919"
      ]
     },
     "execution_count": 29,
     "metadata": {},
     "output_type": "execute_result"
    }
   ],
   "source": [
    "df_toerisme['Periods'] = df_toerisme['Periods'].str.replace('*', '')\n",
    "df_toerisme['Periods']= pd.to_datetime(df_toerisme['Periods'])\n",
    "df_toerisme.head()"
   ]
  },
  {
   "cell_type": "code",
   "execution_count": 30,
   "metadata": {},
   "outputs": [
    {
     "name": "stdout",
     "output_type": "stream",
     "text": [
      "<class 'pandas.core.frame.DataFrame'>\n",
      "RangeIndex: 21 entries, 0 to 20\n",
      "Data columns (total 4 columns):\n",
      " #   Column                Non-Null Count  Dtype         \n",
      "---  ------                --------------  -----         \n",
      " 0   Country of residence  21 non-null     object        \n",
      " 1   Periods               21 non-null     datetime64[ns]\n",
      " 2   Regions               21 non-null     object        \n",
      " 3   Guests (x 1 000)      21 non-null     int64         \n",
      "dtypes: datetime64[ns](1), int64(1), object(2)\n",
      "memory usage: 800.0+ bytes\n"
     ]
    }
   ],
   "source": [
    "df_toerisme.info()"
   ]
  },
  {
   "cell_type": "markdown",
   "metadata": {},
   "source": [
    "### 3.5 Visualisaties besmettingen en toerisme\n",
    "We hebben een lijngrafiek weergegeven die het verloop van het toerisme in Nederland in 2019 en 2020 laat zien. Hieruit blijkt dat er een enorme daling is in het toerisme rond april 2020."
   ]
  },
  {
   "cell_type": "code",
   "execution_count": 31,
   "metadata": {
    "scrolled": false
   },
   "outputs": [
    {
     "data": {
      "image/png": "[encoded data removed]",
      "text/plain": [
       "<Figure size 540x360 with 1 Axes>"
      ]
     },
     "metadata": {
      "needs_background": "light"
     },
     "output_type": "display_data"
    }
   ],
   "source": [
    "g = sns.relplot(data=df_toerisme, x='Periods', y='Guests (x 1 000)', kind='line', aspect = 1.5)\n",
    "\n",
    "g.fig.suptitle('Lijngrafiek van toerisme in Nederland', y = 1.08)\n",
    "g.set(xlabel = 'Periode', ylabel = 'Aantal gasten x 1000')\n",
    "plt.xticks(rotation=90)\n",
    "\n",
    "plt.show()"
   ]
  },
  {
   "cell_type": "markdown",
   "metadata": {},
   "source": [
    "Om het verband met de besmettingen weer te kunnen geven is deze als tweede as toegevoegd in de lijngrafiek. Hieruit blijkt dat de daling van het toerisme in april 2020 te maken heeft met de toename van het aantal besmettingen. Opvallend is dat het toerisme groeit tot het oude niveau, maar niet zo hard meer daalt bij een nieuwe toename van het aantal besmettingen."
   ]
  },
  {
   "cell_type": "code",
   "execution_count": 32,
   "metadata": {},
   "outputs": [
    {
     "data": {
      "image/png": "[encoded data removed]",
      "text/plain": [
       "<Figure size 720x504 with 2 Axes>"
      ]
     },
     "metadata": {
      "needs_background": "light"
     },
     "output_type": "display_data"
    }
   ],
   "source": [
    "fig, ax = plt.subplots(figsize=(10, 7))\n",
    "sns.lineplot(data=(df_covid_nl_history[df_covid_nl_history['date']<df_toerisme['Periods'].max()]), x='date', y='confirmed per day', color='blue')\n",
    "plt.xlabel('Datum (jaar-maand)')\n",
    "plt.ylabel('Aantal besmettingen per dag')\n",
    "ax2 = plt.twinx()\n",
    "sns.lineplot(data=(df_toerisme[df_toerisme['Periods']>df_covid_nl_history['date'].min()]), x='Periods', y='Guests (x 1 000)', ax=ax2, color='tomato')\n",
    "plt.title('Verband tussen het aantal besmettingen en het toerisme')\n",
    "plt.ylabel('Aantal gasten (x1000)')\n",
    "plt.show()"
   ]
  },
  {
   "cell_type": "markdown",
   "metadata": {},
   "source": [
    "### 3.6 Inladen gegevens (faillissementen)\n",
    "Net als de gegevens van het toerisme hebben we ook een dataset van het aantal faillissementen bij CBS gedownload https://opendata.cbs.nl/statline/#/CBS/en/dataset/82522ENG/line?ts=1614610685490. \n",
    "\n",
    "Om een indruk te krijgen van de data hebben we de dataset weergegeven."
   ]
  },
  {
   "cell_type": "code",
   "execution_count": 33,
   "metadata": {},
   "outputs": [
    {
     "data": {
      "text/html": [
       "<div>\n",
       "<style scoped>\n",
       "    .dataframe tbody tr th:only-of-type {\n",
       "        vertical-align: middle;\n",
       "    }\n",
       "\n",
       "    .dataframe tbody tr th {\n",
       "        vertical-align: top;\n",
       "    }\n",
       "\n",
       "    .dataframe thead th {\n",
       "        text-align: right;\n",
       "    }\n",
       "</style>\n",
       "<table border=\"1\" class=\"dataframe\">\n",
       "  <thead>\n",
       "    <tr style=\"text-align: right;\">\n",
       "      <th></th>\n",
       "      <th>Type of bankruptcy</th>\n",
       "      <th>Periods</th>\n",
       "      <th>Regions</th>\n",
       "      <th>Pronounced bankruptcies (Number)</th>\n",
       "    </tr>\n",
       "  </thead>\n",
       "  <tbody>\n",
       "    <tr>\n",
       "      <th>0</th>\n",
       "      <td>Total entities with/without legal pers.</td>\n",
       "      <td>2009 January</td>\n",
       "      <td>Nederland</td>\n",
       "      <td>563</td>\n",
       "    </tr>\n",
       "    <tr>\n",
       "      <th>1</th>\n",
       "      <td>Total entities with/without legal pers.</td>\n",
       "      <td>2009 February</td>\n",
       "      <td>Nederland</td>\n",
       "      <td>601</td>\n",
       "    </tr>\n",
       "    <tr>\n",
       "      <th>2</th>\n",
       "      <td>Total entities with/without legal pers.</td>\n",
       "      <td>2009 March</td>\n",
       "      <td>Nederland</td>\n",
       "      <td>768</td>\n",
       "    </tr>\n",
       "    <tr>\n",
       "      <th>3</th>\n",
       "      <td>Total entities with/without legal pers.</td>\n",
       "      <td>2009 April</td>\n",
       "      <td>Nederland</td>\n",
       "      <td>717</td>\n",
       "    </tr>\n",
       "    <tr>\n",
       "      <th>4</th>\n",
       "      <td>Total entities with/without legal pers.</td>\n",
       "      <td>2009 May</td>\n",
       "      <td>Nederland</td>\n",
       "      <td>581</td>\n",
       "    </tr>\n",
       "    <tr>\n",
       "      <th>...</th>\n",
       "      <td>...</td>\n",
       "      <td>...</td>\n",
       "      <td>...</td>\n",
       "      <td>...</td>\n",
       "    </tr>\n",
       "    <tr>\n",
       "      <th>140</th>\n",
       "      <td>Total entities with/without legal pers.</td>\n",
       "      <td>2020 September</td>\n",
       "      <td>Nederland</td>\n",
       "      <td>248</td>\n",
       "    </tr>\n",
       "    <tr>\n",
       "      <th>141</th>\n",
       "      <td>Total entities with/without legal pers.</td>\n",
       "      <td>2020 October</td>\n",
       "      <td>Nederland</td>\n",
       "      <td>184</td>\n",
       "    </tr>\n",
       "    <tr>\n",
       "      <th>142</th>\n",
       "      <td>Total entities with/without legal pers.</td>\n",
       "      <td>2020 November</td>\n",
       "      <td>Nederland</td>\n",
       "      <td>203</td>\n",
       "    </tr>\n",
       "    <tr>\n",
       "      <th>143</th>\n",
       "      <td>Total entities with/without legal pers.</td>\n",
       "      <td>2020 December**</td>\n",
       "      <td>Nederland</td>\n",
       "      <td>202</td>\n",
       "    </tr>\n",
       "    <tr>\n",
       "      <th>144</th>\n",
       "      <td>Total entities with/without legal pers.</td>\n",
       "      <td>2021 January*</td>\n",
       "      <td>Nederland</td>\n",
       "      <td>158</td>\n",
       "    </tr>\n",
       "  </tbody>\n",
       "</table>\n",
       "<p>145 rows × 4 columns</p>\n",
       "</div>"
      ],
      "text/plain": [
       "                          Type of bankruptcy          Periods    Regions  \\\n",
       "0    Total entities with/without legal pers.     2009 January  Nederland   \n",
       "1    Total entities with/without legal pers.    2009 February  Nederland   \n",
       "2    Total entities with/without legal pers.       2009 March  Nederland   \n",
       "3    Total entities with/without legal pers.       2009 April  Nederland   \n",
       "4    Total entities with/without legal pers.         2009 May  Nederland   \n",
       "..                                       ...              ...        ...   \n",
       "140  Total entities with/without legal pers.   2020 September  Nederland   \n",
       "141  Total entities with/without legal pers.     2020 October  Nederland   \n",
       "142  Total entities with/without legal pers.    2020 November  Nederland   \n",
       "143  Total entities with/without legal pers.  2020 December**  Nederland   \n",
       "144  Total entities with/without legal pers.    2021 January*  Nederland   \n",
       "\n",
       "     Pronounced bankruptcies (Number)  \n",
       "0                                 563  \n",
       "1                                 601  \n",
       "2                                 768  \n",
       "3                                 717  \n",
       "4                                 581  \n",
       "..                                ...  \n",
       "140                               248  \n",
       "141                               184  \n",
       "142                               203  \n",
       "143                               202  \n",
       "144                               158  \n",
       "\n",
       "[145 rows x 4 columns]"
      ]
     },
     "execution_count": 33,
     "metadata": {},
     "output_type": "execute_result"
    }
   ],
   "source": [
    "df_faillissementen=pd.read_csv('https://opendata.cbs.nl/CsvDownload/csv/82522ENG/TypedDataSet?dl=43B85', sep=';')\n",
    "df_faillissementen"
   ]
  },
  {
   "cell_type": "markdown",
   "metadata": {},
   "source": [
    "Achter sommige data staat een sterretje, wat CBS gebruikt om aan te geven dat de data nog kan wijzigen. Voor de analyse hebben we deze niet nodig en hebben wij deze dus verwijderd. Ook hebben we het datatype gewijzigd naar datetime. Uit de informatie van de dataframe blijkt dat de bewerkingen zijn gelukt en we geen missende data hebben."
   ]
  },
  {
   "cell_type": "code",
   "execution_count": 34,
   "metadata": {},
   "outputs": [
    {
     "data": {
      "text/html": [
       "<div>\n",
       "<style scoped>\n",
       "    .dataframe tbody tr th:only-of-type {\n",
       "        vertical-align: middle;\n",
       "    }\n",
       "\n",
       "    .dataframe tbody tr th {\n",
       "        vertical-align: top;\n",
       "    }\n",
       "\n",
       "    .dataframe thead th {\n",
       "        text-align: right;\n",
       "    }\n",
       "</style>\n",
       "<table border=\"1\" class=\"dataframe\">\n",
       "  <thead>\n",
       "    <tr style=\"text-align: right;\">\n",
       "      <th></th>\n",
       "      <th>Type of bankruptcy</th>\n",
       "      <th>Periods</th>\n",
       "      <th>Regions</th>\n",
       "      <th>Pronounced bankruptcies (Number)</th>\n",
       "    </tr>\n",
       "  </thead>\n",
       "  <tbody>\n",
       "    <tr>\n",
       "      <th>0</th>\n",
       "      <td>Total entities with/without legal pers.</td>\n",
       "      <td>2009-01-01</td>\n",
       "      <td>Nederland</td>\n",
       "      <td>563</td>\n",
       "    </tr>\n",
       "    <tr>\n",
       "      <th>1</th>\n",
       "      <td>Total entities with/without legal pers.</td>\n",
       "      <td>2009-02-01</td>\n",
       "      <td>Nederland</td>\n",
       "      <td>601</td>\n",
       "    </tr>\n",
       "    <tr>\n",
       "      <th>2</th>\n",
       "      <td>Total entities with/without legal pers.</td>\n",
       "      <td>2009-03-01</td>\n",
       "      <td>Nederland</td>\n",
       "      <td>768</td>\n",
       "    </tr>\n",
       "    <tr>\n",
       "      <th>3</th>\n",
       "      <td>Total entities with/without legal pers.</td>\n",
       "      <td>2009-04-01</td>\n",
       "      <td>Nederland</td>\n",
       "      <td>717</td>\n",
       "    </tr>\n",
       "    <tr>\n",
       "      <th>4</th>\n",
       "      <td>Total entities with/without legal pers.</td>\n",
       "      <td>2009-05-01</td>\n",
       "      <td>Nederland</td>\n",
       "      <td>581</td>\n",
       "    </tr>\n",
       "  </tbody>\n",
       "</table>\n",
       "</div>"
      ],
      "text/plain": [
       "                        Type of bankruptcy    Periods    Regions  \\\n",
       "0  Total entities with/without legal pers. 2009-01-01  Nederland   \n",
       "1  Total entities with/without legal pers. 2009-02-01  Nederland   \n",
       "2  Total entities with/without legal pers. 2009-03-01  Nederland   \n",
       "3  Total entities with/without legal pers. 2009-04-01  Nederland   \n",
       "4  Total entities with/without legal pers. 2009-05-01  Nederland   \n",
       "\n",
       "   Pronounced bankruptcies (Number)  \n",
       "0                               563  \n",
       "1                               601  \n",
       "2                               768  \n",
       "3                               717  \n",
       "4                               581  "
      ]
     },
     "execution_count": 34,
     "metadata": {},
     "output_type": "execute_result"
    }
   ],
   "source": [
    "df_faillissementen['Periods'] = df_faillissementen['Periods'].str.replace('*', '')\n",
    "df_faillissementen['Periods']= pd.to_datetime(df_faillissementen['Periods'])\n",
    "df_faillissementen.head()"
   ]
  },
  {
   "cell_type": "code",
   "execution_count": 35,
   "metadata": {},
   "outputs": [
    {
     "name": "stdout",
     "output_type": "stream",
     "text": [
      "<class 'pandas.core.frame.DataFrame'>\n",
      "RangeIndex: 145 entries, 0 to 144\n",
      "Data columns (total 4 columns):\n",
      " #   Column                            Non-Null Count  Dtype         \n",
      "---  ------                            --------------  -----         \n",
      " 0   Type of bankruptcy                145 non-null    object        \n",
      " 1   Periods                           145 non-null    datetime64[ns]\n",
      " 2   Regions                           145 non-null    object        \n",
      " 3   Pronounced bankruptcies (Number)  145 non-null    int64         \n",
      "dtypes: datetime64[ns](1), int64(1), object(2)\n",
      "memory usage: 4.7+ KB\n"
     ]
    }
   ],
   "source": [
    "df_faillissementen.info()"
   ]
  },
  {
   "cell_type": "markdown",
   "metadata": {},
   "source": [
    "### 3.7 Visualisaties faillissementen\n",
    "We hebben een lijngrafiek weergegeven die het verloop van het aantal faillissementen in Nederland tussen 2009 en 2020 laat zien. Hieruit blijkt dat het aantal faillissementen vooral in 2020 enorm daalt. In de afgelopen 11 jaar is het aantal faillissementen nog nooit zo laag geweest."
   ]
  },
  {
   "cell_type": "code",
   "execution_count": 36,
   "metadata": {},
   "outputs": [
    {
     "data": {
      "image/png": "[encoded data removed]",
      "text/plain": [
       "<Figure size 720x360 with 1 Axes>"
      ]
     },
     "metadata": {
      "needs_background": "light"
     },
     "output_type": "display_data"
    }
   ],
   "source": [
    "g = sns.relplot(data=df_faillissementen, x='Periods', y='Pronounced bankruptcies (Number)', kind='line', aspect=2)\n",
    "g.fig.suptitle('Aantal faillissementen tussen 2009-2020')\n",
    "g.set(xlabel = 'Datum (jaren)', ylabel = 'Aantal faillissementen')\n",
    "plt.show()"
   ]
  },
  {
   "cell_type": "markdown",
   "metadata": {},
   "source": [
    "Om in te zoomen op het aantal faillissementen in 2020 hebben we ingezoomed op de gegevens tussen maart 2020 en januari 2021. Het is duidelijk te zien dat in de loop van het jaar 2020 het aantal faillissementen afneemt."
   ]
  },
  {
   "cell_type": "code",
   "execution_count": 37,
   "metadata": {},
   "outputs": [
    {
     "name": "stdout",
     "output_type": "stream",
     "text": [
      "<class 'pandas.core.frame.DataFrame'>\n",
      "DatetimeIndex: 11 entries, 2020-03-01 to 2021-01-01\n",
      "Data columns (total 4 columns):\n",
      " #   Column                            Non-Null Count  Dtype         \n",
      "---  ------                            --------------  -----         \n",
      " 0   Type of bankruptcy                11 non-null     object        \n",
      " 1   Periods                           11 non-null     datetime64[ns]\n",
      " 2   Regions                           11 non-null     object        \n",
      " 3   Pronounced bankruptcies (Number)  11 non-null     int64         \n",
      "dtypes: datetime64[ns](1), int64(1), object(2)\n",
      "memory usage: 440.0+ bytes\n"
     ]
    }
   ],
   "source": [
    "df_faillissementen_2020 = df_faillissementen.loc[df_faillissementen.index > 133]\n",
    "df_faillissementen_2020.index = df_faillissementen_2020[\"Periods\"]\n",
    "df_faillissementen_2020.info()"
   ]
  },
  {
   "cell_type": "code",
   "execution_count": 38,
   "metadata": {},
   "outputs": [
    {
     "data": {
      "image/png": "[encoded data removed]",
      "text/plain": [
       "<Figure size 720x360 with 1 Axes>"
      ]
     },
     "metadata": {
      "needs_background": "light"
     },
     "output_type": "display_data"
    }
   ],
   "source": [
    "g = sns.relplot(data=df_faillissementen_2020, x='Periods', y='Pronounced bankruptcies (Number)', kind='line', aspect=2)\n",
    "g.fig.suptitle('Het aantal faillissementen in 2020')\n",
    "g.set(xlabel = 'Datum (jaar-maand)', ylabel = 'Aantal faillissementen')\n",
    "plt.show()"
   ]
  },
  {
   "cell_type": "markdown",
   "metadata": {},
   "source": [
    "Om het verband te kunnen laten zien tussen het aantal faillissementen en het aantal besmettingen hebben we beide variabelen in één grafiek geplaatst. Om de grafiek interactief te kunnen maken, is er een aantal sliders, tekstvelden en keuzemenu's toegevoegd."
   ]
  },
  {
   "cell_type": "markdown",
   "metadata": {},
   "source": [
    "Allereerst zal de linker Y-as aan te passen zijn. Deze sliders zijn afhankelijk van elkaar ingesteld. De maximaal gekozen Y-waarde kan nooit groter zijn dan de minimale Y-waarde+100. Door een ruimte van 100 in te stellen, wordt voorkomen dat er een gelijke waarde voor minimale en maximale Y-waarde wordt gekozen."
   ]
  },
  {
   "cell_type": "code",
   "execution_count": 39,
   "metadata": {},
   "outputs": [],
   "source": [
    "Cylim_min = ipywidgets.IntSlider(description='Kies minimum Y-waarde COVID-19 infecties', style={'description_width': 'initial'}, min=df_covid_nl_history_confirmed['confirmed per day'].min(), max=df_covid_nl_history_confirmed['confirmed per day'].max()-100, step=50, layout=Layout(width='100%'))\n",
    "Cylim_max = ipywidgets.IntSlider(description='Kies maximum Y-waarde COVID-19 infecties', style={'description_width': 'initial'}, min=df_covid_nl_history_confirmed['confirmed per day'].min()+100, max=df_covid_nl_history_confirmed['confirmed per day'].max()+100, value=df_covid_nl_history_confirmed['confirmed per day'].max()+100, step=50, layout=Layout(width='100%'))\n",
    "\n",
    "def on_value_change(change):\n",
    "    new_Cylim_min = change['new']\n",
    "    Cylim_max.min = new_Cylim_min + 100\n",
    "Cylim_min.observe(on_value_change, names='value')"
   ]
  },
  {
   "cell_type": "markdown",
   "metadata": {},
   "source": [
    "Op een identieke wijze zal de rechter Y-as aan te passen zijn. Hier is wel gekozen voor een kleinere ruimte tussen de minima en maxima, namelijk 10. Dit is vanwege de lagere datawaarden."
   ]
  },
  {
   "cell_type": "code",
   "execution_count": 40,
   "metadata": {},
   "outputs": [],
   "source": [
    "Bylim_min = ipywidgets.IntSlider(description='Kies minimum Y-waarde faillissementen', style={'description_width': 'initial'}, min=df_faillissementen_2020[\"Pronounced bankruptcies (Number)\"].min(), max=df_faillissementen_2020[\"Pronounced bankruptcies (Number)\"].max()-1, step=1, layout=Layout(width='100%'))\n",
    "Bylim_max = ipywidgets.IntSlider(description='Kies maximum Y-waarde faillissementen', style={'description_width': 'initial'}, min=df_faillissementen_2020[\"Pronounced bankruptcies (Number)\"].min()+1, max=df_faillissementen_2020[\"Pronounced bankruptcies (Number)\"].max()+10, value=df_faillissementen_2020[\"Pronounced bankruptcies (Number)\"].max()+10, step=1, layout=Layout(width='100%'))\n",
    "\n",
    "def on_value_change(change):\n",
    "    new_Bylim_min = change['new']\n",
    "    Bylim_max.min = new_Bylim_min + 1\n",
    "Bylim_min.observe(on_value_change, names='value')"
   ]
  },
  {
   "cell_type": "markdown",
   "metadata": {},
   "source": [
    "Vervolgens zal er een mogelijkheid worden gegeven om het datumbereik aan te passen. Dit bereik is gelimiteerd tussen de eerste en laatste waarneming in de dataframe."
   ]
  },
  {
   "cell_type": "code",
   "execution_count": 41,
   "metadata": {},
   "outputs": [],
   "source": [
    "options = df_faillissementen_2020['Periods']\n",
    "dateslider = ipywidgets.SelectionRangeSlider(\n",
    "    options=options,\n",
    "    index=(0,10),\n",
    "    description='Selecteer datumbereik',\n",
    "    disabled=False,\n",
    "    layout=Layout(width='75%', height='80px'),\n",
    "    style={'description_width': 'initial'},\n",
    "    readout=True\n",
    ")"
   ]
  },
  {
   "cell_type": "markdown",
   "metadata": {},
   "source": [
    "Ook is het mogelijk om de titel van de grafiek zelf aan te passen. Dit gebeurt middels een tekstveld."
   ]
  },
  {
   "cell_type": "code",
   "execution_count": 42,
   "metadata": {},
   "outputs": [],
   "source": [
    "titlebox = ipywidgets.Text(\n",
    "    placeholder='Kies titel',\n",
    "    value='Relatie tussen COVID-19 infecties en definitief aantal uitgeroepen faillissementen',\n",
    "    description='Vul een grafiektitel in:',\n",
    "    disabled=False,\n",
    "    style={'description_width': 'initial'}\n",
    ")"
   ]
  },
  {
   "cell_type": "markdown",
   "metadata": {},
   "source": [
    "Daarnaast kan de grafiek verder worden aangepast door een eigengekozen kleurstelling toe te passen."
   ]
  },
  {
   "cell_type": "code",
   "execution_count": 43,
   "metadata": {},
   "outputs": [],
   "source": [
    "colorCovid = ipywidgets.ColorPicker(\n",
    "    description = \"Kies een kleur voor 'COVID-19 infecties'\",\n",
    "    value = 'blue',\n",
    "    style={'description_width': 'initial'}\n",
    ")\n",
    "\n",
    "colorBankrupt = ipywidgets.ColorPicker(\n",
    "    description = \"Kies een kleur voor 'definitief aantal faillissementen'\",\n",
    "    value = 'tomato',\n",
    "    style={'description_width': 'initial'}\n",
    ")"
   ]
  },
  {
   "cell_type": "markdown",
   "metadata": {},
   "source": [
    "Deze elementen worden vervolgens samengevoegd in een functie. De output bevat alle bovengenoemde elementen en de uiteindelijke grafiek."
   ]
  },
  {
   "cell_type": "code",
   "execution_count": 44,
   "metadata": {
    "scrolled": false
   },
   "outputs": [
    {
     "data": {
      "application/vnd.jupyter.widget-view+json": {
       "model_id": "1a202aefbb784465a3239b9fbb1b1b65",
       "version_major": 2,
       "version_minor": 0
      },
      "text/plain": [
       "VBox(children=(HBox(children=(SelectionRangeSlider(description='Selecteer datumbereik', index=(0, 10), layout=…"
      ]
     },
     "metadata": {},
     "output_type": "display_data"
    }
   ],
   "source": [
    "def ranges(adjust, adjustLY1, adjustLY2, adjustRY1, adjustRY2, title, colorCovid, colorBankrupt):\n",
    "    fig, ax = plt.subplots(figsize=(20, 15))\n",
    "    sns.set_style(\"ticks\")\n",
    "    br1 = sns.lineplot(data=(df_covid_nl_history[df_covid_nl_history['date']<df_faillissementen_2020['Periods'].max()]), x='date', y='confirmed per day', color=colorCovid)\n",
    "    ax2 = plt.twinx()\n",
    "    br2 = sns.lineplot(data=df_faillissementen_2020, x='Periods', y='Pronounced bankruptcies (Number)', ax=ax2, color=colorBankrupt)\n",
    "    br1.set(ylabel='COVID-19 infecties', xlabel='Date (Months)', title=titlebox.value)\n",
    "    br2.set(ylabel='Definitief aantal uitgeroepen faillissementen', label='Definitief aantal uitgeroepen faillissementen')\n",
    "    blue_patch = mpatches.Patch(color=colorCovid, label='COVID-19 infecties')\n",
    "    tomato_patch = mpatches.Patch(color=colorBankrupt, label='Definitief aantal uitgeroepen faillissementen')\n",
    "    plt.legend([blue_patch, tomato_patch], ['COVID-19 infecties', 'Definitief aantal uitgeroepen faillissementen'])\n",
    "    ax.set_xlim([dateslider.value[0], dateslider.value[1]])\n",
    "    br1.set_ylim([Cylim_min.value, Cylim_max.value])\n",
    "    br2.set_ylim([Bylim_min.value, Bylim_max.value])\n",
    "\n",
    "out = ipywidgets.interactive_output(ranges, {'adjust': dateslider, 'adjustLY1':Cylim_min, 'adjustLY2':Cylim_max, 'adjustRY1':Bylim_min, 'adjustRY2':Bylim_max, 'title':titlebox, 'colorCovid':colorCovid, 'colorBankrupt':colorBankrupt})\n",
    "ipywidgets.VBox([ipywidgets.HBox([dateslider, titlebox]), Cylim_min, Cylim_max, Bylim_min, Bylim_max, out, colorCovid, colorBankrupt])"
   ]
  },
  {
   "cell_type": "markdown",
   "metadata": {},
   "source": [
    "Conclusie:\n",
    "Ondanks dat veel mensen verwachten dat corona een negatieve impact heeft op het aantal faillissementen, blijkt dat het aantal faillissementen afneemt als het aantal besmettingen toeneemt. Dit komt waarschijnlijk door de steunmaatregelen van de overheid."
   ]
  }
 ],
 "metadata": {
  "kernelspec": {
   "display_name": "Python 3",
   "language": "python",
   "name": "python3"
  },
  "language_info": {
   "codemirror_mode": {
    "name": "ipython",
    "version": 3
   },
   "file_extension": ".py",
   "mimetype": "text/x-python",
   "name": "python",
   "nbconvert_exporter": "python",
   "pygments_lexer": "ipython3",
   "version": "3.8.5"
  }
 },
 "nbformat": 4,
 "nbformat_minor": 4
}
